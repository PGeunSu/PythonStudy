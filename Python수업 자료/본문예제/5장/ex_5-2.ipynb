{
 "cells": [
  {
   "cell_type": "code",
   "execution_count": 1,
   "metadata": {},
   "outputs": [
    {
     "name": "stdout",
     "output_type": "stream",
     "text": [
      "[1020, 870, 3160, 2650]\n",
      "['사과', '오렌지', '포도', '복숭아']\n"
     ]
    }
   ],
   "source": [
    "price = [1020, 870, 3160, 2650]\n",
    "fruits = ['사과', '오렌지', '포도', '복숭아']\n",
    "print(price)\n",
    "print(fruits)"
   ]
  },
  {
   "cell_type": "code",
   "execution_count": 2,
   "metadata": {},
   "outputs": [
    {
     "name": "stdout",
     "output_type": "stream",
     "text": [
      "870\n",
      "복숭아\n"
     ]
    }
   ],
   "source": [
    "price = [1020, 870, 3160, 2650]\n",
    "fruits = ['사과', '오렌지', '포도', '복숭아']\n",
    "print(price[1])\n",
    "print(fruits[-1])"
   ]
  },
  {
   "cell_type": "code",
   "execution_count": 3,
   "metadata": {},
   "outputs": [],
   "source": [
    "fruits = ['사과', '오렌지', '사과', '복숭아']\n",
    "fruitstag = ['사과', 1020, '오렌지', 870, '복숭아', 2650]"
   ]
  },
  {
   "cell_type": "code",
   "execution_count": 4,
   "metadata": {},
   "outputs": [
    {
     "name": "stdout",
     "output_type": "stream",
     "text": [
      "a= [1, 5, 7] b= [1, 5, 7]\n"
     ]
    }
   ],
   "source": [
    "a = [3, 5, 7]\n",
    "b = a\n",
    "b[0] = b[0] - 2\n",
    "print('a=', a, 'b=', b)"
   ]
  },
  {
   "cell_type": "code",
   "execution_count": 5,
   "metadata": {},
   "outputs": [
    {
     "name": "stdout",
     "output_type": "stream",
     "text": [
      "[1020, 870]\n",
      "[1020, 3160]\n",
      "[870, 365]\n"
     ]
    }
   ],
   "source": [
    "price = [1020, 870, 3160, 365, 731]\n",
    "print(price[0:2])  # 인덱스 0에서 2 전까지 출력\n",
    "print(price[0:4:2])  # 인덱스 0에서 4 전까지 2의 간격으로 출력\n",
    "print(price[1::2])  # 인덱스 1에서 2의 간격으로 끝까지 출력"
   ]
  },
  {
   "cell_type": "code",
   "execution_count": 6,
   "metadata": {},
   "outputs": [
    {
     "name": "stdout",
     "output_type": "stream",
     "text": [
      "Packing: [12.23, 23.34]\n",
      "Unpacking:\n",
      "c1: 12.23\n",
      "c2: 23.34\n"
     ]
    }
   ],
   "source": [
    "x = 12.23\n",
    "y = 23.34\n",
    "packing = [x, y]  # packing!\n",
    "type(packing)\n",
    "print('Packing:', packing)\n",
    "[c1, c2] = packing  # unpacking!\n",
    "print('Unpacking:\\nc1:', c1)\n",
    "print('c2:', c2)"
   ]
  },
  {
   "cell_type": "code",
   "execution_count": 7,
   "metadata": {},
   "outputs": [
    {
     "name": "stdout",
     "output_type": "stream",
     "text": [
      "['사과', '오렌지', '포도', '복숭아', '키위']\n"
     ]
    }
   ],
   "source": [
    "fruits1 = ['사과', '오렌지', '포도']\n",
    "fruits2 = ['복숭아', '키위']\n",
    "allfruits = fruits1 + fruits2\n",
    "print(allfruits)"
   ]
  },
  {
   "cell_type": "code",
   "execution_count": 8,
   "metadata": {},
   "outputs": [
    {
     "name": "stdout",
     "output_type": "stream",
     "text": [
      "[2, 3, 5, 7]\n"
     ]
    }
   ],
   "source": [
    "prime = [2, 3, 5]\n",
    "prime.append(7)\n",
    "print(prime)"
   ]
  },
  {
   "cell_type": "code",
   "execution_count": 9,
   "metadata": {},
   "outputs": [
    {
     "name": "stdout",
     "output_type": "stream",
     "text": [
      "0\n",
      "1\n",
      "2\n",
      "3\n",
      "4\n"
     ]
    }
   ],
   "source": [
    "a = list()  # list()는 빈 리스트 생성, a = []와 동일\n",
    "for i in range(5):\n",
    "    a.append(i)\n",
    "    print(a[i])"
   ]
  },
  {
   "cell_type": "code",
   "execution_count": 10,
   "metadata": {},
   "outputs": [
    {
     "name": "stdout",
     "output_type": "stream",
     "text": [
      "['사과', '귤', '포도', '수박']\n"
     ]
    }
   ],
   "source": [
    "fruits = ['사과', '귤', '포도']\n",
    "fruits.append('수박')\n",
    "print(fruits)"
   ]
  },
  {
   "cell_type": "code",
   "execution_count": 11,
   "metadata": {},
   "outputs": [
    {
     "name": "stdout",
     "output_type": "stream",
     "text": [
      "0 새\n",
      "1 코끼리\n",
      "2 강아지\n"
     ]
    }
   ],
   "source": [
    "animals = ['새', '코끼리', '강아지']\n",
    "for i, animal in enumerate(animals):\n",
    "    print(i, animal)"
   ]
  },
  {
   "cell_type": "code",
   "execution_count": 12,
   "metadata": {},
   "outputs": [
    {
     "name": "stdout",
     "output_type": "stream",
     "text": [
      "['사과', '키위', '오렌지', '포도']\n"
     ]
    }
   ],
   "source": [
    "fruits = ['사과', '오렌지', '포도']\n",
    "fruits.insert(1, '키위')\n",
    "print(fruits)"
   ]
  },
  {
   "cell_type": "code",
   "execution_count": 13,
   "metadata": {},
   "outputs": [
    {
     "name": "stdout",
     "output_type": "stream",
     "text": [
      "[4, 8, 2]\n"
     ]
    }
   ],
   "source": [
    "mylist = [3, 5, 4, 9, 1, 8, 2, 1]\n",
    "newlist = [i for i in mylist if (i%2)==0]\n",
    "print(newlist)"
   ]
  },
  {
   "cell_type": "code",
   "execution_count": 14,
   "metadata": {},
   "outputs": [
    {
     "name": "stdout",
     "output_type": "stream",
     "text": [
      "[0, 2, 3, 4, 5]\n"
     ]
    }
   ],
   "source": [
    "nums = [0, 1, 2, 3, 4, 5]\n",
    "del nums[1]\n",
    "print(nums)"
   ]
  },
  {
   "cell_type": "code",
   "execution_count": 15,
   "metadata": {},
   "outputs": [
    {
     "name": "stdout",
     "output_type": "stream",
     "text": [
      "[0, 5]\n"
     ]
    }
   ],
   "source": [
    "nums = [0, 1, 2, 3, 4, 5]\n",
    "del nums[1:5]\n",
    "print(nums)"
   ]
  },
  {
   "cell_type": "code",
   "execution_count": 16,
   "metadata": {},
   "outputs": [
    {
     "name": "stdout",
     "output_type": "stream",
     "text": [
      "[1, 3, 5]\n"
     ]
    }
   ],
   "source": [
    "nums = [1, 3, 5, 7, 9]\n",
    "nums.pop()  # 9가 삭제되어 [1, 3, 5, 7]로 변경됨\n",
    "nums.pop()  # 7이 삭제되어 [1, 3, 5]로 변경됨\n",
    "print(nums)  # 결과를 출력"
   ]
  },
  {
   "cell_type": "code",
   "execution_count": 17,
   "metadata": {},
   "outputs": [
    {
     "name": "stdout",
     "output_type": "stream",
     "text": [
      "[1, 3, 7, 9]\n"
     ]
    }
   ],
   "source": [
    "nums = [1, 3, 5, 7, 9]\n",
    "nums.pop(2)\n",
    "print(nums)"
   ]
  },
  {
   "cell_type": "code",
   "execution_count": 18,
   "metadata": {},
   "outputs": [
    {
     "name": "stdout",
     "output_type": "stream",
     "text": [
      "[0, 2, 3, 4, 5]\n"
     ]
    }
   ],
   "source": [
    "nums = [0, 1, 2, 3, 4, 5]\n",
    "nums[1:2] = []\n",
    "print(nums)"
   ]
  },
  {
   "cell_type": "code",
   "execution_count": 19,
   "metadata": {},
   "outputs": [
    {
     "name": "stdout",
     "output_type": "stream",
     "text": [
      "True\n"
     ]
    }
   ],
   "source": [
    "word = 'orange'\n",
    "print('r' in word)"
   ]
  },
  {
   "cell_type": "code",
   "execution_count": 20,
   "metadata": {},
   "outputs": [
    {
     "name": "stdout",
     "output_type": "stream",
     "text": [
      "False\n"
     ]
    }
   ],
   "source": [
    "fruits = ['사과', '오렌지', '포도']\n",
    "print('포도' not in fruits)"
   ]
  },
  {
   "cell_type": "code",
   "execution_count": 21,
   "metadata": {},
   "outputs": [
    {
     "name": "stdout",
     "output_type": "stream",
     "text": [
      "[1, 2, 3, 1, 2, 3]\n"
     ]
    }
   ],
   "source": [
    "a = [1, 2, 3]\n",
    "b = a * 2\n",
    "print(b)"
   ]
  },
  {
   "cell_type": "code",
   "execution_count": 22,
   "metadata": {},
   "outputs": [
    {
     "name": "stdout",
     "output_type": "stream",
     "text": [
      "2\n",
      "4\n",
      "6\n"
     ]
    }
   ],
   "source": [
    "a = [1, 2, 3]\n",
    "for i in a:\n",
    "    print(i * 2)"
   ]
  },
  {
   "cell_type": "code",
   "execution_count": 23,
   "metadata": {},
   "outputs": [
    {
     "name": "stdout",
     "output_type": "stream",
     "text": [
      "3\n"
     ]
    }
   ],
   "source": [
    "fruits = ['사과', '오렌지', '포도']\n",
    "print(len(fruits))"
   ]
  },
  {
   "cell_type": "code",
   "execution_count": 24,
   "metadata": {},
   "outputs": [
    {
     "name": "stdout",
     "output_type": "stream",
     "text": [
      "3\n"
     ]
    }
   ],
   "source": [
    "nums = [5, 7, 1, 3, 5, 7, 1, 3, 3, 5, 7, 9]\n",
    "print(nums.count(5))"
   ]
  },
  {
   "cell_type": "code",
   "execution_count": 25,
   "metadata": {},
   "outputs": [
    {
     "name": "stdout",
     "output_type": "stream",
     "text": [
      "2\n"
     ]
    }
   ],
   "source": [
    "nums = [1, 2, 3, 4, 5, 3]\n",
    "print(nums.index(3))"
   ]
  },
  {
   "cell_type": "code",
   "execution_count": 26,
   "metadata": {},
   "outputs": [
    {
     "name": "stdout",
     "output_type": "stream",
     "text": [
      "[1, 2, 3, 3, 5, 5]\n"
     ]
    }
   ],
   "source": [
    "nums = [3, 5, 2, 1, 5, 3]\n",
    "nums.sort()\n",
    "print(nums)"
   ]
  },
  {
   "cell_type": "code",
   "execution_count": 27,
   "metadata": {},
   "outputs": [
    {
     "name": "stdout",
     "output_type": "stream",
     "text": [
      "[5, 5, 3, 3, 2, 1]\n"
     ]
    }
   ],
   "source": [
    "nums = [3, 5, 2, 1, 5, 3]\n",
    "nums.sort(reverse = True)\n",
    "print(nums)"
   ]
  },
  {
   "cell_type": "code",
   "execution_count": 28,
   "metadata": {},
   "outputs": [],
   "source": [
    "fruits = ['apple', 'orange', 'grape', 'orange']\n",
    "fruitdb = [['apple', 1020], ['orange', 880], ['grape', 3160]]"
   ]
  },
  {
   "cell_type": "code",
   "execution_count": 29,
   "metadata": {},
   "outputs": [
    {
     "name": "stdout",
     "output_type": "stream",
     "text": [
      "['오렌지', 880]\n",
      "오렌지\n"
     ]
    }
   ],
   "source": [
    "fruitdb = [['사과', 1020], ['오렌지', 880], ['포도', 3160]]\n",
    "print(fruitdb[1])\n",
    "print(fruitdb[1][0])"
   ]
  },
  {
   "cell_type": "code",
   "execution_count": 30,
   "metadata": {},
   "outputs": [
    {
     "name": "stdout",
     "output_type": "stream",
     "text": [
      "[2, 20, 200]\n"
     ]
    }
   ],
   "source": [
    "record = [\n",
    "    [1, 2, 3],\n",
    "    [10, 20, 30],\n",
    "    [100, 200, 300]]\n",
    "index = [ary[1] for ary in record]\n",
    "print(index)"
   ]
  },
  {
   "cell_type": "code",
   "execution_count": 31,
   "metadata": {},
   "outputs": [
    {
     "name": "stdout",
     "output_type": "stream",
     "text": [
      "[[1, 2], [6, 7]]\n"
     ]
    }
   ],
   "source": [
    "mylist = [[1, 2], [3, 4, 5], [6, 7]]\n",
    "newlist = [x for x in mylist if len(x)==2]\n",
    "print(newlist)"
   ]
  },
  {
   "cell_type": "code",
   "execution_count": 32,
   "metadata": {},
   "outputs": [
    {
     "name": "stdout",
     "output_type": "stream",
     "text": [
      "[1, 2, 3, 1, 2, 3]\n"
     ]
    }
   ],
   "source": [
    "def times2(a):\n",
    "    a = a * 2\n",
    "    print(a)\n",
    "nums = [1, 2, 3]\n",
    "times2(nums)"
   ]
  },
  {
   "cell_type": "code",
   "execution_count": 33,
   "metadata": {},
   "outputs": [
    {
     "name": "stdout",
     "output_type": "stream",
     "text": [
      "('사과', '오렌지', 1020, 880)\n"
     ]
    }
   ],
   "source": [
    "empty = ()  # 빈 튜플을 생성 또는 empty = tuple()\n",
    "animals = ('토끼', '사자', '원숭이')\n",
    "fruits = '사과', '오렌지', 1020, 880\n",
    "start = '하나', '둘',\n",
    "print(fruits)"
   ]
  },
  {
   "cell_type": "code",
   "execution_count": 34,
   "metadata": {},
   "outputs": [
    {
     "name": "stdout",
     "output_type": "stream",
     "text": [
      "오렌지\n",
      "('오렌지', 1020)\n"
     ]
    }
   ],
   "source": [
    "print(fruits[1])  # 인덱싱 기능\n",
    "print(fruits[1:3])  # 슬라이싱 기능"
   ]
  },
  {
   "cell_type": "code",
   "execution_count": 35,
   "metadata": {},
   "outputs": [
    {
     "ename": "TypeError",
     "evalue": "'tuple' object does not support item assignment",
     "output_type": "error",
     "traceback": [
      "\u001b[1;31m---------------------------------------------------------------------------\u001b[0m",
      "\u001b[1;31mTypeError\u001b[0m                                 Traceback (most recent call last)",
      "\u001b[1;32m<ipython-input-35-23340fb68226>\u001b[0m in \u001b[0;36m<module>\u001b[1;34m\u001b[0m\n\u001b[1;32m----> 1\u001b[1;33m \u001b[0mfruits\u001b[0m\u001b[1;33m[\u001b[0m\u001b[1;36m1\u001b[0m\u001b[1;33m]\u001b[0m \u001b[1;33m=\u001b[0m \u001b[1;34m'키위'\u001b[0m\u001b[1;33m\u001b[0m\u001b[1;33m\u001b[0m\u001b[0m\n\u001b[0m",
      "\u001b[1;31mTypeError\u001b[0m: 'tuple' object does not support item assignment"
     ]
    }
   ],
   "source": [
    "fruits[1] = '키위'"
   ]
  },
  {
   "cell_type": "code",
   "execution_count": 36,
   "metadata": {},
   "outputs": [
    {
     "name": "stdout",
     "output_type": "stream",
     "text": [
      "(('토끼', '사자', '원숭이'), ('사과', '오렌지', 1020, 88))\n"
     ]
    }
   ],
   "source": [
    "animals = ('토끼', '사자', '원숭이')\n",
    "fruits = '사과', '오렌지', 1020, 88,\n",
    "things = animals, fruits\n",
    "print(things)"
   ]
  },
  {
   "cell_type": "code",
   "execution_count": 37,
   "metadata": {},
   "outputs": [
    {
     "name": "stdout",
     "output_type": "stream",
     "text": [
      "['사과', '키위']\n"
     ]
    }
   ],
   "source": [
    "fruits = (['포도', '망고'], ['사과', '키위'])\n",
    "print(fruits[1])"
   ]
  },
  {
   "cell_type": "code",
   "execution_count": 38,
   "metadata": {},
   "outputs": [
    {
     "ename": "TypeError",
     "evalue": "'tuple' object does not support item assignment",
     "output_type": "error",
     "traceback": [
      "\u001b[1;31m---------------------------------------------------------------------------\u001b[0m",
      "\u001b[1;31mTypeError\u001b[0m                                 Traceback (most recent call last)",
      "\u001b[1;32m<ipython-input-38-3394754487ec>\u001b[0m in \u001b[0;36m<module>\u001b[1;34m\u001b[0m\n\u001b[0;32m      1\u001b[0m \u001b[0mfruits\u001b[0m \u001b[1;33m=\u001b[0m \u001b[1;33m(\u001b[0m\u001b[1;33m[\u001b[0m\u001b[1;34m'포도'\u001b[0m\u001b[1;33m,\u001b[0m \u001b[1;34m'망고'\u001b[0m\u001b[1;33m]\u001b[0m\u001b[1;33m,\u001b[0m \u001b[1;33m[\u001b[0m\u001b[1;34m'사과'\u001b[0m\u001b[1;33m,\u001b[0m \u001b[1;34m'키위'\u001b[0m\u001b[1;33m]\u001b[0m\u001b[1;33m)\u001b[0m\u001b[1;33m\u001b[0m\u001b[1;33m\u001b[0m\u001b[0m\n\u001b[0;32m      2\u001b[0m \u001b[0mnewfruits\u001b[0m \u001b[1;33m=\u001b[0m \u001b[1;33m[\u001b[0m\u001b[1;34m'수박'\u001b[0m\u001b[1;33m,\u001b[0m \u001b[1;34m'참외'\u001b[0m\u001b[1;33m]\u001b[0m\u001b[1;33m\u001b[0m\u001b[1;33m\u001b[0m\u001b[0m\n\u001b[1;32m----> 3\u001b[1;33m \u001b[0mfruits\u001b[0m\u001b[1;33m[\u001b[0m\u001b[1;36m1\u001b[0m\u001b[1;33m]\u001b[0m \u001b[1;33m=\u001b[0m \u001b[0mnewfruits\u001b[0m\u001b[1;33m\u001b[0m\u001b[1;33m\u001b[0m\u001b[0m\n\u001b[0m",
      "\u001b[1;31mTypeError\u001b[0m: 'tuple' object does not support item assignment"
     ]
    }
   ],
   "source": [
    "fruits = (['포도', '망고'], ['사과', '키위'])\n",
    "newfruits = ['수박', '참외']\n",
    "fruits[1] = newfruits"
   ]
  },
  {
   "cell_type": "code",
   "execution_count": 39,
   "metadata": {},
   "outputs": [
    {
     "name": "stdout",
     "output_type": "stream",
     "text": [
      "[('수박', '참외'), ('사과', '키위')]\n"
     ]
    }
   ],
   "source": [
    "fruits = [('포도', '망고'), ('사과', '키위')]\n",
    "fruits[0] = ('수박', '참외')\n",
    "print(fruits)"
   ]
  },
  {
   "cell_type": "code",
   "execution_count": 40,
   "metadata": {},
   "outputs": [
    {
     "name": "stdout",
     "output_type": "stream",
     "text": [
      "(['포도', '망고'], ['수박', '키위'])\n"
     ]
    }
   ],
   "source": [
    "fruits = (['포도', '망고'], ['사과', '키위'])\n",
    "fruits[1][0] = '수박'\n",
    "print(fruits)"
   ]
  },
  {
   "cell_type": "code",
   "execution_count": 41,
   "metadata": {},
   "outputs": [
    {
     "data": {
      "text/plain": [
       "(5, 3)"
      ]
     },
     "execution_count": 41,
     "metadata": {},
     "output_type": "execute_result"
    }
   ],
   "source": [
    "dice = (3, 2, 5, 3, 4)\n",
    "dice[2:4]"
   ]
  },
  {
   "cell_type": "code",
   "execution_count": 42,
   "metadata": {},
   "outputs": [
    {
     "name": "stdout",
     "output_type": "stream",
     "text": [
      "packing: (12.23, 23.34)\n",
      "c1: 12.23\n",
      "c2: 23.34\n"
     ]
    }
   ],
   "source": [
    "x = 12.23\n",
    "y = 23.34\n",
    "packing = (x, y) # packing!\n",
    "type(packing)\n",
    "print('packing:', packing)\n",
    "(c1, c2) = packing # unpacking!\n",
    "print('c1:', c1)\n",
    "print('c2:', c2)"
   ]
  },
  {
   "cell_type": "code",
   "execution_count": 43,
   "metadata": {},
   "outputs": [
    {
     "name": "stdout",
     "output_type": "stream",
     "text": [
      "(3, 2, 5, 3, 4, 6, 1, 4, 2, 3)\n"
     ]
    }
   ],
   "source": [
    "dice1 = (3, 2, 5, 3, 4)\n",
    "dice2 = (6, 1, 4, 2, 3)\n",
    "dice3 = dice1 + dice2\n",
    "print(dice3)"
   ]
  },
  {
   "cell_type": "code",
   "execution_count": 44,
   "metadata": {},
   "outputs": [
    {
     "name": "stdout",
     "output_type": "stream",
     "text": [
      "True\n",
      "False\n"
     ]
    }
   ],
   "source": [
    "dice = (3, 2, 5, 3, 4)\n",
    "print(2 in dice)\n",
    "print(2 not in dice)"
   ]
  },
  {
   "cell_type": "code",
   "execution_count": 45,
   "metadata": {},
   "outputs": [
    {
     "name": "stdout",
     "output_type": "stream",
     "text": [
      "(1, 2, 3, 1, 2, 3)\n"
     ]
    }
   ],
   "source": [
    "a = (1, 2, 3)\n",
    "b = a * 2\n",
    "print(b)"
   ]
  },
  {
   "cell_type": "code",
   "execution_count": 46,
   "metadata": {},
   "outputs": [
    {
     "name": "stdout",
     "output_type": "stream",
     "text": [
      "3\n"
     ]
    }
   ],
   "source": [
    "dice = (1, 2, 3)\n",
    "print(len(dice))"
   ]
  },
  {
   "cell_type": "code",
   "execution_count": 47,
   "metadata": {},
   "outputs": [
    {
     "name": "stdout",
     "output_type": "stream",
     "text": [
      "2\n"
     ]
    }
   ],
   "source": [
    "dice = (5, 3, 1, 2, 3, 6)\n",
    "print(dice.count(3))"
   ]
  },
  {
   "cell_type": "code",
   "execution_count": 48,
   "metadata": {},
   "outputs": [
    {
     "name": "stdout",
     "output_type": "stream",
     "text": [
      "1\n"
     ]
    }
   ],
   "source": [
    "dice = (5, 3, 1, 2, 3, 6)\n",
    "print(dice.index(3))"
   ]
  },
  {
   "cell_type": "code",
   "execution_count": 49,
   "metadata": {},
   "outputs": [
    {
     "name": "stdout",
     "output_type": "stream",
     "text": [
      "((6, 1, 4), (5, 2, 1))\n",
      "2\n"
     ]
    }
   ],
   "source": [
    "dice1 = (6, 1, 4)\n",
    "dice2 = (5, 2, 1)\n",
    "result = (dice1, dice2)\n",
    "print(result)\n",
    "print(result[1][1])"
   ]
  },
  {
   "cell_type": "code",
   "execution_count": 50,
   "metadata": {},
   "outputs": [
    {
     "name": "stdout",
     "output_type": "stream",
     "text": [
      "이름: 홍길동 나이: 21 키: 172.5\n"
     ]
    }
   ],
   "source": [
    "name = '홍길동'\n",
    "age = 21\n",
    "height = 172.5\n",
    "print('이름: {} 나이: {} 키: {}'.format(name, age, height))"
   ]
  },
  {
   "cell_type": "code",
   "execution_count": 51,
   "metadata": {},
   "outputs": [
    {
     "name": "stdout",
     "output_type": "stream",
     "text": [
      "이름: 홍길동 나이: 21 키: 172.5\n"
     ]
    }
   ],
   "source": [
    "print('이름: {0:3s} 나이:{1:3} 키:{2:6.1f}'.format(name, age, height))"
   ]
  },
  {
   "cell_type": "code",
   "execution_count": 52,
   "metadata": {},
   "outputs": [],
   "source": [
    "import turtle\n",
    "import random\n",
    "for i in range(10):\n",
    "    for j in range(5):\n",
    "        col = random.randint(0, 4)\n",
    "        coltype = ('yellow', 'blue', 'red', 'purple', 'green')\n",
    "        col = random.randint(0, 4)\n",
    "        turtle.color(coltype[col])\n",
    "        sel = random.randint(0, 4)\n",
    "        if (0 == sel):\n",
    "            turtle.forward(random.randint(30, 50))\n",
    "        elif (1 == sel):\n",
    "            turtle.right(random.randint(90, 360))\n",
    "        elif (2 == sel):\n",
    "            turtle.begin_fill()\n",
    "            turtle.circle(random.randint(-100, -20))\n",
    "            turtle.end_fill()\n",
    "        elif (3 == sel):\n",
    "            turtle.forward(random.randint(30, 50))\n",
    "        elif (4 == sel):\n",
    "            turtle.circle(random.randint(20, 100))\n",
    "    a = float(random.randint(-300, 300))\n",
    "    b = float(random.randint(-300, 300))\n",
    "    turtle.goto(a, b)"
   ]
  },
  {
   "cell_type": "code",
   "execution_count": 53,
   "metadata": {},
   "outputs": [
    {
     "name": "stdout",
     "output_type": "stream",
     "text": [
      "{'지훈': 1234}\n"
     ]
    }
   ],
   "source": [
    "student = { }  # 빈 사전을 생성함. 또는 student = dict()\n",
    "student['지훈'] = 1234\n",
    "print(student)"
   ]
  },
  {
   "cell_type": "code",
   "execution_count": 54,
   "metadata": {},
   "outputs": [
    {
     "name": "stdout",
     "output_type": "stream",
     "text": [
      "{'지훈': 1234, '수민': 2345}\n"
     ]
    }
   ],
   "source": [
    "student = { }\n",
    "student['지훈'] = 1234\n",
    "student['수민'] = 2345\n",
    "print(student)"
   ]
  },
  {
   "cell_type": "code",
   "execution_count": 55,
   "metadata": {},
   "outputs": [
    {
     "name": "stdout",
     "output_type": "stream",
     "text": [
      "{'사과': 1020, '오렌지': 880, '포도': 3160}\n"
     ]
    }
   ],
   "source": [
    "fruitdb = {'사과':1020, '오렌지':880, '포도':3160}\n",
    "print(fruitdb)"
   ]
  },
  {
   "cell_type": "code",
   "execution_count": 56,
   "metadata": {},
   "outputs": [
    {
     "ename": "KeyError",
     "evalue": "1",
     "output_type": "error",
     "traceback": [
      "\u001b[1;31m---------------------------------------------------------------------------\u001b[0m",
      "\u001b[1;31mKeyError\u001b[0m                                  Traceback (most recent call last)",
      "\u001b[1;32m<ipython-input-56-028c3b9b0c80>\u001b[0m in \u001b[0;36m<module>\u001b[1;34m\u001b[0m\n\u001b[0;32m      1\u001b[0m \u001b[0mfruitdb\u001b[0m \u001b[1;33m=\u001b[0m \u001b[1;33m{\u001b[0m\u001b[1;34m'사과'\u001b[0m\u001b[1;33m:\u001b[0m\u001b[1;36m1020\u001b[0m\u001b[1;33m,\u001b[0m \u001b[1;34m'오렌지'\u001b[0m\u001b[1;33m:\u001b[0m\u001b[1;36m880\u001b[0m\u001b[1;33m,\u001b[0m \u001b[1;34m'포도'\u001b[0m\u001b[1;33m:\u001b[0m\u001b[1;36m3160\u001b[0m\u001b[1;33m}\u001b[0m\u001b[1;33m\u001b[0m\u001b[1;33m\u001b[0m\u001b[0m\n\u001b[1;32m----> 2\u001b[1;33m \u001b[0mprint\u001b[0m\u001b[1;33m(\u001b[0m\u001b[0mfruitdb\u001b[0m\u001b[1;33m[\u001b[0m\u001b[1;36m1\u001b[0m\u001b[1;33m]\u001b[0m\u001b[1;33m)\u001b[0m\u001b[1;33m\u001b[0m\u001b[1;33m\u001b[0m\u001b[0m\n\u001b[0m\u001b[0;32m      3\u001b[0m \u001b[0mprint\u001b[0m\u001b[1;33m(\u001b[0m\u001b[0mfruitdb\u001b[0m\u001b[1;33m[\u001b[0m\u001b[1;36m1\u001b[0m\u001b[1;33m:\u001b[0m\u001b[1;36m2\u001b[0m\u001b[1;33m]\u001b[0m\u001b[1;33m)\u001b[0m\u001b[1;33m\u001b[0m\u001b[1;33m\u001b[0m\u001b[0m\n",
      "\u001b[1;31mKeyError\u001b[0m: 1"
     ]
    }
   ],
   "source": [
    "fruitdb = {'사과':1020, '오렌지':880, '포도':3160}\n",
    "print(fruitdb[1])\n",
    "print(fruitdb[1:2])"
   ]
  },
  {
   "cell_type": "code",
   "execution_count": 57,
   "metadata": {},
   "outputs": [
    {
     "name": "stdout",
     "output_type": "stream",
     "text": [
      "{'오렌지': 880, '포도': 3160}\n"
     ]
    }
   ],
   "source": [
    "fruitdb = {'사과':1020, '오렌지':880, '포도':3160}\n",
    "del fruitdb['사과']\n",
    "print(fruitdb)"
   ]
  },
  {
   "cell_type": "code",
   "execution_count": 58,
   "metadata": {},
   "outputs": [
    {
     "name": "stdout",
     "output_type": "stream",
     "text": [
      "False\n",
      "1234\n",
      "2345\n",
      "dict_keys(['현준', '민지'])\n",
      "dict_values([1234, 2345])\n",
      "dict_items([('현준', 1234), ('민지', 2345)])\n"
     ]
    }
   ],
   "source": [
    "student = {'현준': 1234, '민지': 2345}\n",
    "print('SeJong' in student)\n",
    "print(student.get('현준'))\n",
    "print(student.get('민지'))\n",
    "print(student.keys())\n",
    "print(student.values())\n",
    "print(student.items())"
   ]
  },
  {
   "cell_type": "code",
   "execution_count": 59,
   "metadata": {},
   "outputs": [
    {
     "name": "stdout",
     "output_type": "stream",
     "text": [
      "{'현준': 1234, '민지': 2345, '승민': 3456, '유진': 4567}\n"
     ]
    }
   ],
   "source": [
    "student = {'현준': 1234, '민지': 2345}\n",
    "newstd = {'승민': 3456, '유진': 4567}\n",
    "student.update(newstd)\n",
    "print(student)"
   ]
  },
  {
   "cell_type": "code",
   "execution_count": 60,
   "metadata": {},
   "outputs": [
    {
     "name": "stdout",
     "output_type": "stream",
     "text": [
      "{'현준': 1234, '민지': 2345}\n",
      "{'현준': 1234, '민지': 2345}\n",
      "{'현준': 1234, '민지': 2345}\n"
     ]
    }
   ],
   "source": [
    "student = dict([['현준', 1234], ['민지', 2345]])\n",
    "print(student)\n",
    "student = dict([('현준', 1234), ('민지', 2345)])\n",
    "print(student)\n",
    "student = dict((('현준', 1234), ('민지', 2345)))\n",
    "print(student)"
   ]
  },
  {
   "cell_type": "code",
   "execution_count": 61,
   "metadata": {},
   "outputs": [
    {
     "name": "stdout",
     "output_type": "stream",
     "text": [
      "{'현준': 1234, '민지': 2345}\n"
     ]
    }
   ],
   "source": [
    "student = dict(현준=1234, 민지=2345)\n",
    "print(student)"
   ]
  },
  {
   "cell_type": "code",
   "execution_count": 62,
   "metadata": {},
   "outputs": [
    {
     "name": "stdout",
     "output_type": "stream",
     "text": [
      "이름:준혁, 나이:21, 키:172.5\n"
     ]
    }
   ],
   "source": [
    "person = {'name':'준혁', 'age':21, 'height':172.5}\n",
    "print('이름:{0[name]}, 나이:{0[age]}, 키:{0[height]}'.format(person))"
   ]
  },
  {
   "cell_type": "code",
   "execution_count": 63,
   "metadata": {},
   "outputs": [
    {
     "name": "stdout",
     "output_type": "stream",
     "text": [
      "{1, 2, 3}\n"
     ]
    }
   ],
   "source": [
    "dict = { }  # 빈 사전을 생성 또는 dict = set()\n",
    "dict = {3, 2, 3, 1}  # 중복된 원소를 포함한 데이터 입력\n",
    "print(dict)"
   ]
  },
  {
   "cell_type": "code",
   "execution_count": 64,
   "metadata": {},
   "outputs": [
    {
     "name": "stdout",
     "output_type": "stream",
     "text": [
      "{'사과', '오렌지', '포도'}\n"
     ]
    }
   ],
   "source": [
    "fruits = ['사과', '오렌지', '포도', '오렌지']\n",
    "fruits = set(fruits)\n",
    "print(fruits)"
   ]
  },
  {
   "cell_type": "code",
   "execution_count": 65,
   "metadata": {},
   "outputs": [
    {
     "name": "stdout",
     "output_type": "stream",
     "text": [
      "{'사과', '오렌지', '키위', '포도'}\n"
     ]
    }
   ],
   "source": [
    "fruits = {'사과', '오렌지', '포도'}\n",
    "fruits.add('키위')\n",
    "print(fruits)"
   ]
  },
  {
   "cell_type": "code",
   "execution_count": 66,
   "metadata": {},
   "outputs": [
    {
     "name": "stdout",
     "output_type": "stream",
     "text": [
      "{'수박', '배', '사과', '오렌지', '포도'}\n"
     ]
    }
   ],
   "source": [
    "fruits = {'사과', '오렌지', '포도'}\n",
    "fruits.update({'수박', '배'})\n",
    "print(fruits)"
   ]
  },
  {
   "cell_type": "code",
   "execution_count": 67,
   "metadata": {},
   "outputs": [
    {
     "name": "stdout",
     "output_type": "stream",
     "text": [
      "{'사과', '수박', '포도'}\n",
      "{'수박', '포도'}\n",
      "set()\n"
     ]
    }
   ],
   "source": [
    "fruits = {'사과', '오렌지', '포도', '수박'}\n",
    "fruits.remove('오렌지')\n",
    "print(fruits)\n",
    "fruits.pop()\n",
    "print(fruits)\n",
    "fruits.clear()\n",
    "print(fruits)"
   ]
  },
  {
   "cell_type": "code",
   "execution_count": 68,
   "metadata": {},
   "outputs": [
    {
     "name": "stdout",
     "output_type": "stream",
     "text": [
      "True\n",
      "True\n"
     ]
    }
   ],
   "source": [
    "fruits = {'사과', '오렌지', '포도'}\n",
    "print('사과' in fruits)\n",
    "print('키위' not in fruits)"
   ]
  },
  {
   "cell_type": "code",
   "execution_count": 69,
   "metadata": {},
   "outputs": [
    {
     "name": "stdout",
     "output_type": "stream",
     "text": [
      "one | two: {1, 3, 5, 6, 7, 8}\n",
      "one & two: {1, 3, 5, 6, 7, 8}\n",
      "one - two: {7}\n",
      "one ^ two: {6, 7}\n"
     ]
    }
   ],
   "source": [
    "one = {1, 3, 5, 7, 8}\n",
    "two = {1, 3, 5, 6, 8}\n",
    "print('one | two:', one | two)\n",
    "print('one & two:', one | two)\n",
    "print('one - two:', one - two)\n",
    "print('one ^ two:', one ^ two)"
   ]
  },
  {
   "cell_type": "code",
   "execution_count": 70,
   "metadata": {},
   "outputs": [
    {
     "name": "stdout",
     "output_type": "stream",
     "text": [
      "one <= two: True\n",
      "one < two: False\n",
      "one >= two: True\n",
      "one > two: False\n"
     ]
    }
   ],
   "source": [
    "one = {1, 3, 5, 8}\n",
    "two = {1, 3, 5, 8}\n",
    "print('one <= two:', one <= two)\n",
    "print('one < two:', one < two)\n",
    "print('one >= two:', one >= two)\n",
    "print('one > two:', one > two)"
   ]
  },
  {
   "cell_type": "code",
   "execution_count": 71,
   "metadata": {},
   "outputs": [
    {
     "name": "stdout",
     "output_type": "stream",
     "text": [
      "{'사과': 2, '포도': 2, '레몬': 1}\n"
     ]
    }
   ],
   "source": [
    "training_data = [['연두', 3, '사과'],\n",
    "                 ['노랑', 3, '사과'],\n",
    "                 ['빨강', 2, '포도'],\n",
    "                 ['빨강', 1, '포도'],\n",
    "                 ['노랑', 3, '레몬']]\n",
    "def fruit_counts(data):\n",
    "    counts = {}\n",
    "    for row in data:\n",
    "        label = row[-1]\n",
    "        if label not in counts:\n",
    "            counts[label] = 0\n",
    "        counts[label] += 1\n",
    "    return counts\n",
    "result = fruit_counts(training_data)\n",
    "print(result)"
   ]
  }
 ],
 "metadata": {
  "kernelspec": {
   "display_name": "Python 3",
   "language": "python",
   "name": "python3"
  },
  "language_info": {
   "codemirror_mode": {
    "name": "ipython",
    "version": 3
   },
   "file_extension": ".py",
   "mimetype": "text/x-python",
   "name": "python",
   "nbconvert_exporter": "python",
   "pygments_lexer": "ipython3",
   "version": "3.8.3"
  }
 },
 "nbformat": 4,
 "nbformat_minor": 4
}
