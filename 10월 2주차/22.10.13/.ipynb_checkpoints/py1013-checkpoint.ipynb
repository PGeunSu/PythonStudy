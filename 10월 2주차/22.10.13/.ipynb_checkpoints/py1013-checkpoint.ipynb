{
 "cells": [
  {
   "cell_type": "code",
   "execution_count": 1,
   "id": "26a3a7a4",
   "metadata": {},
   "outputs": [
    {
     "name": "stdout",
     "output_type": "stream",
     "text": [
      "rg\n"
     ]
    }
   ],
   "source": [
    "animal = \"frog\"\n",
    "print(animal[1:4:2]) #"
   ]
  },
  {
   "cell_type": "code",
   "execution_count": 2,
   "id": "cc8a82a5",
   "metadata": {},
   "outputs": [
    {
     "name": "stdout",
     "output_type": "stream",
     "text": [
      "ant\n"
     ]
    }
   ],
   "source": [
    "animal = \"elephant\"\n",
    "print(animal[5:]) #인덱스[5] 이후 출력"
   ]
  },
  {
   "cell_type": "code",
   "execution_count": 3,
   "id": "f874484d",
   "metadata": {},
   "outputs": [
    {
     "name": "stdout",
     "output_type": "stream",
     "text": [
      "ele\n"
     ]
    }
   ],
   "source": [
    "animal = \"elephant\"\n",
    "print(animal[:3]) #인덱스[3] 이전까지 출력"
   ]
  },
  {
   "cell_type": "code",
   "execution_count": 4,
   "id": "49aa88c0",
   "metadata": {},
   "outputs": [
    {
     "name": "stdout",
     "output_type": "stream",
     "text": [
      "ph\n"
     ]
    }
   ],
   "source": [
    "animal = \"elephant\"\n",
    "print(animal[3:-3]) #인덱스[음수]일경우 뒤에서 -1부터 시작"
   ]
  },
  {
   "cell_type": "code",
   "execution_count": 5,
   "id": "807a8c4d",
   "metadata": {},
   "outputs": [
    {
     "name": "stdout",
     "output_type": "stream",
     "text": [
      "elephant\n"
     ]
    }
   ],
   "source": [
    "animal = \"elephant\"\n",
    "print(animal[:])"
   ]
  },
  {
   "cell_type": "code",
   "execution_count": 6,
   "id": "ca1aee83",
   "metadata": {},
   "outputs": [
    {
     "name": "stdout",
     "output_type": "stream",
     "text": [
      "pha\n"
     ]
    }
   ],
   "source": [
    "animal = \"elephant\"\n",
    "print(animal[-5:6])"
   ]
  },
  {
   "cell_type": "code",
   "execution_count": 8,
   "id": "9405ce6b",
   "metadata": {},
   "outputs": [
    {
     "name": "stdout",
     "output_type": "stream",
     "text": [
      "epn\n",
      "tnahpele\n",
      "elephant\n"
     ]
    }
   ],
   "source": [
    "animal = \"elephant\"\n",
    "print(animal[::3]) #3칸씩 출력\n",
    "print(animal[::-1])  #뒤에서부터 1칸씩 출력\n",
    "print(animal[::]) #전체 출력"
   ]
  },
  {
   "cell_type": "code",
   "execution_count": 9,
   "id": "13dff95f",
   "metadata": {},
   "outputs": [
    {
     "name": "stdout",
     "output_type": "stream",
     "text": [
      "진돗개\n"
     ]
    }
   ],
   "source": [
    "dog =\"개\"\n",
    "animal = \"진돗\" + dog\n",
    "print(animal)"
   ]
  },
  {
   "cell_type": "code",
   "execution_count": 10,
   "id": "42c88f2a",
   "metadata": {},
   "outputs": [
    {
     "name": "stdout",
     "output_type": "stream",
     "text": [
      "8\n"
     ]
    }
   ],
   "source": [
    "animal = \"elephant\"\n",
    "print(len(animal)) #len = length : 문자열의 길이 출력"
   ]
  },
  {
   "cell_type": "code",
   "execution_count": 11,
   "id": "c5ebdf04",
   "metadata": {},
   "outputs": [
    {
     "name": "stdout",
     "output_type": "stream",
     "text": [
      "총 개수 :  2\n"
     ]
    }
   ],
   "source": [
    "animal = \"elephant\"\n",
    "print(\"총 개수 : \", animal.count(\"e\")) # 문자열의 e의 개수 출력"
   ]
  },
  {
   "cell_type": "code",
   "execution_count": 30,
   "id": "8d0a0e51",
   "metadata": {},
   "outputs": [
    {
     "name": "stdout",
     "output_type": "stream",
     "text": [
      "앞쪽 찾기 :  0\n"
     ]
    }
   ],
   "source": [
    "animal = \"elephant\"\n",
    "print(\"앞쪽 찾기 : \",animal.find(\"e\")) #$문자나 문자열이 처음 나오는 인덱스 값을 반환 "
   ]
  },
  {
   "cell_type": "code",
   "execution_count": 13,
   "id": "2cf0f7eb",
   "metadata": {},
   "outputs": [
    {
     "name": "stdout",
     "output_type": "stream",
     "text": [
      "ep 찾기 :  2\n"
     ]
    }
   ],
   "source": [
    "print(\"ep 찾기 : \",animal.find(\"ep\")) # ep라는 문자열은 인덱스[2]번의 존재함을 뜻함"
   ]
  },
  {
   "cell_type": "code",
   "execution_count": 14,
   "id": "af6eee7b",
   "metadata": {},
   "outputs": [
    {
     "name": "stdout",
     "output_type": "stream",
     "text": [
      "뒤쪽 찾기 :  2\n",
      "위치 :  0\n",
      "el 시작 :  True\n"
     ]
    }
   ],
   "source": [
    "print(\"뒤쪽 찾기 : \",animal.rfind(\"e\")) #문자나 문자열이 가장 나중에 오는 인덱스 값을 반환\n",
    "print(\"위치 : \", animal.index(\"e\")) #find기능과 동일\n",
    "print(\"el 시작 : \", animal.startswith(\"el\")) #el 문자열로 시작하면 true 아니면 false 반환"
   ]
  },
  {
   "cell_type": "code",
   "execution_count": 1,
   "id": "0026ea82",
   "metadata": {},
   "outputs": [
    {
     "name": "stdout",
     "output_type": "stream",
     "text": [
      "h\n",
      "e\n",
      "l\n",
      "l\n",
      "o\n"
     ]
    }
   ],
   "source": [
    "seq = \"hello\"\n",
    "for s in seq:\n",
    "    print(s)"
   ]
  },
  {
   "cell_type": "code",
   "execution_count": 35,
   "id": "ed2e755d",
   "metadata": {},
   "outputs": [
    {
     "data": {
      "text/plain": [
       "0.9565784440787352"
      ]
     },
     "execution_count": 35,
     "metadata": {},
     "output_type": "execute_result"
    }
   ],
   "source": [
    "import random\n",
    "random.random()"
   ]
  },
  {
   "cell_type": "code",
   "execution_count": 39,
   "id": "ecebea2a",
   "metadata": {},
   "outputs": [
    {
     "name": "stdout",
     "output_type": "stream",
     "text": [
      "수\n"
     ]
    }
   ],
   "source": [
    "import random\n",
    "chars = \"한글 우수\"\n",
    "print(random.choice(chars)) #문자열에서 랜덤 문자 추출"
   ]
  },
  {
   "cell_type": "code",
   "execution_count": 41,
   "id": "a8e6617a",
   "metadata": {},
   "outputs": [
    {
     "name": "stdout",
     "output_type": "stream",
     "text": [
      "3\n"
     ]
    }
   ],
   "source": [
    "import random\n",
    "print(random.randrange(1,6)) #1에서 5까지의 무작위 수 추출"
   ]
  },
  {
   "cell_type": "code",
   "execution_count": 45,
   "id": "bb335fcf",
   "metadata": {},
   "outputs": [
    {
     "name": "stdout",
     "output_type": "stream",
     "text": [
      "수\n"
     ]
    }
   ],
   "source": [
    "import random\n",
    "chars = ['한','글','우','수'] \n",
    "print(random.choice(chars)) #배열에서 랜덤 문자 추출"
   ]
  },
  {
   "cell_type": "code",
   "execution_count": 119,
   "id": "74a2fef2",
   "metadata": {},
   "outputs": [
    {
     "name": "stdout",
     "output_type": "stream",
     "text": [
      "['우', '글', '한', '수']\n"
     ]
    }
   ],
   "source": [
    "import random\n",
    "chars = ['한','글','우','수'] \n",
    "random.shuffle(chars)\n",
    "print(chars) #배열이 무작위 순으로 재배열 됨"
   ]
  },
  {
   "cell_type": "code",
   "execution_count": 120,
   "id": "ca045453",
   "metadata": {},
   "outputs": [
    {
     "name": "stdout",
     "output_type": "stream",
     "text": [
      "['우', '글', '한', '수']\n"
     ]
    }
   ],
   "source": [
    "print(chars) #임시변경이 아닌 실제 배열의 순서가 바뀜"
   ]
  },
  {
   "cell_type": "code",
   "execution_count": 140,
   "id": "0efd9ffd",
   "metadata": {},
   "outputs": [
    {
     "name": "stdout",
     "output_type": "stream",
     "text": [
      "글우우글한\n"
     ]
    }
   ],
   "source": [
    "import random\n",
    "pw = str() #ㅔpw 이름의 빈문자열 생성\n",
    "for _ in range(5): #인덱스 필요하지 않을 때 (값을 무시할 경우 _(언더바)) 사용\n",
    "    pw = pw + random.choice (chars) #무작위 문자 병함\n",
    "print(pw)"
   ]
  },
  {
   "cell_type": "code",
   "execution_count": 157,
   "id": "8d38b916",
   "metadata": {},
   "outputs": [
    {
     "name": "stdout",
     "output_type": "stream",
     "text": [
      "*dn@!ufd\n"
     ]
    }
   ],
   "source": [
    "import random\n",
    "def passwd(length):\n",
    "    pw = str()\n",
    "    chars = \"abcdefghijklmnopqrstuwxyz\" + \"0123456789\" + \"!@#$%^&*\"\n",
    "    for _ in range(length):\n",
    "        pw = pw + random.choice(chars)\n",
    "    return pw\n",
    "print(passwd(8))"
   ]
  },
  {
   "cell_type": "code",
   "execution_count": null,
   "id": "88678e6d",
   "metadata": {},
   "outputs": [],
   "source": []
  }
 ],
 "metadata": {
  "kernelspec": {
   "display_name": "Python 3 (ipykernel)",
   "language": "python",
   "name": "python3"
  },
  "language_info": {
   "codemirror_mode": {
    "name": "ipython",
    "version": 3
   },
   "file_extension": ".py",
   "mimetype": "text/x-python",
   "name": "python",
   "nbconvert_exporter": "python",
   "pygments_lexer": "ipython3",
   "version": "3.9.12"
  }
 },
 "nbformat": 4,
 "nbformat_minor": 5
}
