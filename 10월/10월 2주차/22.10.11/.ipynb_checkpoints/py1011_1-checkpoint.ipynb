{
 "cells": [
  {
   "cell_type": "code",
   "execution_count": 3,
   "id": "f98233d0",
   "metadata": {},
   "outputs": [
    {
     "name": "stdout",
     "output_type": "stream",
     "text": [
      "3\n"
     ]
    }
   ],
   "source": [
    "print(3) #정수형"
   ]
  },
  {
   "cell_type": "code",
   "execution_count": 2,
   "id": "4713fe95",
   "metadata": {},
   "outputs": [
    {
     "name": "stdout",
     "output_type": "stream",
     "text": [
      "안녕하세요!\n"
     ]
    }
   ],
   "source": [
    "print(\"안녕하세요!\")"
   ]
  },
  {
   "cell_type": "code",
   "execution_count": 6,
   "id": "b65a1f1a",
   "metadata": {},
   "outputs": [
    {
     "name": "stdout",
     "output_type": "stream",
     "text": [
      "3.5\n"
     ]
    }
   ],
   "source": [
    "print(3.5) #실수형"
   ]
  },
  {
   "cell_type": "code",
   "execution_count": 7,
   "id": "cbfdccfb",
   "metadata": {},
   "outputs": [
    {
     "name": "stdout",
     "output_type": "stream",
     "text": [
      "True\n"
     ]
    }
   ],
   "source": [
    "print(True) #boolean형"
   ]
  },
  {
   "cell_type": "code",
   "execution_count": 8,
   "id": "4ab52dee",
   "metadata": {},
   "outputs": [
    {
     "name": "stdout",
     "output_type": "stream",
     "text": [
      "12.56\n"
     ]
    }
   ],
   "source": [
    "pi = 3.14\n",
    "r=2\n",
    "print(r*r*pi)"
   ]
  },
  {
   "cell_type": "code",
   "execution_count": 9,
   "id": "c7ce57af",
   "metadata": {},
   "outputs": [
    {
     "name": "stdout",
     "output_type": "stream",
     "text": [
      "12.566370614359172\n"
     ]
    }
   ],
   "source": [
    "import math\n",
    "r=2\n",
    "print(math.pi*r*r)"
   ]
  },
  {
   "cell_type": "code",
   "execution_count": 10,
   "id": "3b38d917",
   "metadata": {},
   "outputs": [],
   "source": [
    "a=3\n",
    "b=3.5\n",
    "c= True"
   ]
  },
  {
   "cell_type": "code",
   "execution_count": 11,
   "id": "883a413a",
   "metadata": {},
   "outputs": [
    {
     "name": "stdout",
     "output_type": "stream",
     "text": [
      "3\n"
     ]
    }
   ],
   "source": [
    "print(a)"
   ]
  },
  {
   "cell_type": "code",
   "execution_count": 12,
   "id": "135b85e4",
   "metadata": {},
   "outputs": [
    {
     "name": "stdout",
     "output_type": "stream",
     "text": [
      "3.5\n"
     ]
    }
   ],
   "source": [
    "print(b)"
   ]
  },
  {
   "cell_type": "code",
   "execution_count": 13,
   "id": "c8fad950",
   "metadata": {},
   "outputs": [
    {
     "name": "stdout",
     "output_type": "stream",
     "text": [
      "True\n"
     ]
    }
   ],
   "source": [
    "print(c)"
   ]
  },
  {
   "cell_type": "code",
   "execution_count": 14,
   "id": "98a511f1",
   "metadata": {},
   "outputs": [
    {
     "name": "stdout",
     "output_type": "stream",
     "text": [
      "6.5\n"
     ]
    }
   ],
   "source": [
    "print(a+b)"
   ]
  },
  {
   "cell_type": "code",
   "execution_count": 15,
   "id": "8cab5c03",
   "metadata": {},
   "outputs": [
    {
     "name": "stdout",
     "output_type": "stream",
     "text": [
      "0.8571428571428571\n"
     ]
    }
   ],
   "source": [
    "print(a/b)"
   ]
  },
  {
   "cell_type": "code",
   "execution_count": 16,
   "id": "330d5eeb",
   "metadata": {},
   "outputs": [
    {
     "name": "stdout",
     "output_type": "stream",
     "text": [
      "0.0\n"
     ]
    }
   ],
   "source": [
    "print(a//b) #나누기 (몫)"
   ]
  },
  {
   "cell_type": "code",
   "execution_count": 17,
   "id": "beb2fcea",
   "metadata": {},
   "outputs": [
    {
     "name": "stdout",
     "output_type": "stream",
     "text": [
      "3.0\n"
     ]
    }
   ],
   "source": [
    "print(a%b) #나누기(나머지)"
   ]
  },
  {
   "cell_type": "code",
   "execution_count": 19,
   "id": "adeb83f4",
   "metadata": {},
   "outputs": [
    {
     "name": "stdout",
     "output_type": "stream",
     "text": [
      "10.5\n"
     ]
    }
   ],
   "source": [
    "print(a*b)"
   ]
  },
  {
   "cell_type": "code",
   "execution_count": 21,
   "id": "d037516c",
   "metadata": {},
   "outputs": [
    {
     "name": "stdout",
     "output_type": "stream",
     "text": [
      "3\n"
     ]
    }
   ],
   "source": [
    "two = 0b11 #2진수는 0b를 사용 [영(0) binary를 나타내는 b]\n",
    "print(two)"
   ]
  },
  {
   "cell_type": "code",
   "execution_count": 23,
   "id": "407e6222",
   "metadata": {},
   "outputs": [
    {
     "name": "stdout",
     "output_type": "stream",
     "text": [
      "9\n"
     ]
    }
   ],
   "source": [
    "eight = 0o11 #8진수는 0o를 사용 [영(0) octet를 나타내는 o]\n",
    "print(eight)"
   ]
  },
  {
   "cell_type": "code",
   "execution_count": 2,
   "id": "80c7713d",
   "metadata": {},
   "outputs": [
    {
     "name": "stdout",
     "output_type": "stream",
     "text": [
      "17\n"
     ]
    }
   ],
   "source": [
    "a = 0x11 #16진수는 0o를 사용 [영(0) hex를 나타내는 x]\n",
    "print(a)"
   ]
  },
  {
   "cell_type": "code",
   "execution_count": 5,
   "id": "3a741492",
   "metadata": {},
   "outputs": [
    {
     "name": "stdout",
     "output_type": "stream",
     "text": [
      "3 * 3.5 = 10.5\n"
     ]
    }
   ],
   "source": [
    "a = 3\n",
    "b = 3.5\n",
    "print(a, \"*\" , b, \"=\" , a*b)"
   ]
  },
  {
   "cell_type": "code",
   "execution_count": 6,
   "id": "3d01ae4b",
   "metadata": {},
   "outputs": [
    {
     "name": "stdout",
     "output_type": "stream",
     "text": [
      "나이 :  21\n"
     ]
    }
   ],
   "source": [
    "age = 21\n",
    "print(\"나이 : \" , age  )"
   ]
  },
  {
   "cell_type": "code",
   "execution_count": 11,
   "id": "0fd6e859",
   "metadata": {},
   "outputs": [
    {
     "name": "stdout",
     "output_type": "stream",
     "text": [
      "이름은 :  근수 입니다\n"
     ]
    }
   ],
   "source": [
    "name = \"근수\"\n",
    "print(\"이름은 : \" ,name, \"입니다\")"
   ]
  },
  {
   "cell_type": "code",
   "execution_count": 12,
   "id": "4d7bb105",
   "metadata": {},
   "outputs": [
    {
     "name": "stdout",
     "output_type": "stream",
     "text": [
      "%d 3\n"
     ]
    }
   ],
   "source": [
    "print(\"%d\",3)"
   ]
  },
  {
   "cell_type": "code",
   "execution_count": 14,
   "id": "3a3ef96c",
   "metadata": {},
   "outputs": [
    {
     "name": "stdout",
     "output_type": "stream",
     "text": [
      "3\n"
     ]
    }
   ],
   "source": [
    "print(\"%d\"%3) # [C언어] print(\"%d\",3); 명령문과 동일"
   ]
  },
  {
   "cell_type": "code",
   "execution_count": 15,
   "id": "041aa19f",
   "metadata": {},
   "outputs": [
    {
     "name": "stdout",
     "output_type": "stream",
     "text": [
      "3.500000\n"
     ]
    }
   ],
   "source": [
    "print(\"%f\"%3.5)"
   ]
  },
  {
   "cell_type": "code",
   "execution_count": 16,
   "id": "2dfbb0b7",
   "metadata": {},
   "outputs": [
    {
     "name": "stdout",
     "output_type": "stream",
     "text": [
      "박근수\n"
     ]
    }
   ],
   "source": [
    "name = input()"
   ]
  },
  {
   "cell_type": "code",
   "execution_count": 17,
   "id": "2b9756ff",
   "metadata": {},
   "outputs": [
    {
     "name": "stdout",
     "output_type": "stream",
     "text": [
      "이름 : 박근수\n"
     ]
    }
   ],
   "source": [
    "name = input(\"이름 : \")"
   ]
  },
  {
   "cell_type": "code",
   "execution_count": 18,
   "id": "4b3d989f",
   "metadata": {},
   "outputs": [
    {
     "name": "stdout",
     "output_type": "stream",
     "text": [
      "박근수\n"
     ]
    }
   ],
   "source": [
    "print(name)"
   ]
  },
  {
   "cell_type": "code",
   "execution_count": 23,
   "id": "8059ab8c",
   "metadata": {},
   "outputs": [
    {
     "name": "stdout",
     "output_type": "stream",
     "text": [
      "나이 : 23\n"
     ]
    }
   ],
   "source": [
    "age = input('나이 : ')"
   ]
  },
  {
   "cell_type": "code",
   "execution_count": 20,
   "id": "2111acdd",
   "metadata": {},
   "outputs": [
    {
     "name": "stdout",
     "output_type": "stream",
     "text": [
      "23\n"
     ]
    }
   ],
   "source": [
    "print(age)"
   ]
  },
  {
   "cell_type": "code",
   "execution_count": 21,
   "id": "567fd73a",
   "metadata": {},
   "outputs": [
    {
     "name": "stdout",
     "output_type": "stream",
     "text": [
      "몇년 후? : 3\n"
     ]
    }
   ],
   "source": [
    "after = input(\"몇년 후? : \")"
   ]
  },
  {
   "cell_type": "code",
   "execution_count": 25,
   "id": "1235d0bd",
   "metadata": {},
   "outputs": [
    {
     "name": "stdout",
     "output_type": "stream",
     "text": [
      "26\n"
     ]
    }
   ],
   "source": [
    "print(int(age) + int(after)) #input값은 문자열로 저장되기 떄문에 int형으로 변환해야함"
   ]
  },
  {
   "cell_type": "code",
   "execution_count": 28,
   "id": "62216c6e",
   "metadata": {},
   "outputs": [
    {
     "ename": "TypeError",
     "evalue": "can only concatenate str (not \"int\") to str",
     "output_type": "error",
     "traceback": [
      "\u001b[1;31m---------------------------------------------------------------------------\u001b[0m",
      "\u001b[1;31mTypeError\u001b[0m                                 Traceback (most recent call last)",
      "Input \u001b[1;32mIn [28]\u001b[0m, in \u001b[0;36m<cell line: 1>\u001b[1;34m()\u001b[0m\n\u001b[1;32m----> 1\u001b[0m \u001b[38;5;28mprint\u001b[39m(\u001b[38;5;124;43m\"\u001b[39;49m\u001b[38;5;124;43m나이 : \u001b[39;49m\u001b[38;5;124;43m\"\u001b[39;49m\u001b[43m \u001b[49m\u001b[38;5;241;43m+\u001b[39;49m\u001b[43m \u001b[49m\u001b[38;5;241;43m21\u001b[39;49m)\n",
      "\u001b[1;31mTypeError\u001b[0m: can only concatenate str (not \"int\") to str"
     ]
    }
   ],
   "source": [
    "print(\"나이 : \" + 21) #문자 + 숫자 error"
   ]
  },
  {
   "cell_type": "code",
   "execution_count": 30,
   "id": "347adf75",
   "metadata": {},
   "outputs": [
    {
     "name": "stdout",
     "output_type": "stream",
     "text": [
      "나이 : 21\n"
     ]
    }
   ],
   "source": [
    "print(\"나이 : \" + str(21))"
   ]
  },
  {
   "cell_type": "code",
   "execution_count": 31,
   "id": "45c5d13d",
   "metadata": {},
   "outputs": [
    {
     "name": "stdout",
     "output_type": "stream",
     "text": [
      "나이 : 21\n"
     ]
    }
   ],
   "source": [
    "age = input(\"나이 : \")"
   ]
  },
  {
   "cell_type": "code",
   "execution_count": 32,
   "id": "4f410c9a",
   "metadata": {},
   "outputs": [
    {
     "name": "stdout",
     "output_type": "stream",
     "text": [
      "31\n"
     ]
    }
   ],
   "source": [
    "print(int(age) + 10)"
   ]
  },
  {
   "cell_type": "code",
   "execution_count": 46,
   "id": "30b088fb",
   "metadata": {},
   "outputs": [
    {
     "ename": "TypeError",
     "evalue": "'str' object is not callable",
     "output_type": "error",
     "traceback": [
      "\u001b[1;31m---------------------------------------------------------------------------\u001b[0m",
      "\u001b[1;31mTypeError\u001b[0m                                 Traceback (most recent call last)",
      "Input \u001b[1;32mIn [46]\u001b[0m, in \u001b[0;36m<cell line: 1>\u001b[1;34m()\u001b[0m\n\u001b[1;32m----> 1\u001b[0m \u001b[38;5;28;43mtype\u001b[39;49m\u001b[43m(\u001b[49m\u001b[43mage\u001b[49m\u001b[43m)\u001b[49m\n",
      "\u001b[1;31mTypeError\u001b[0m: 'str' object is not callable"
     ]
    }
   ],
   "source": [
    "type(age)"
   ]
  },
  {
   "cell_type": "code",
   "execution_count": null,
   "id": "e28266fe",
   "metadata": {},
   "outputs": [],
   "source": []
  }
 ],
 "metadata": {
  "kernelspec": {
   "display_name": "Python 3 (ipykernel)",
   "language": "python",
   "name": "python3"
  },
  "language_info": {
   "codemirror_mode": {
    "name": "ipython",
    "version": 3
   },
   "file_extension": ".py",
   "mimetype": "text/x-python",
   "name": "python",
   "nbconvert_exporter": "python",
   "pygments_lexer": "ipython3",
   "version": "3.9.12"
  }
 },
 "nbformat": 4,
 "nbformat_minor": 5
}
