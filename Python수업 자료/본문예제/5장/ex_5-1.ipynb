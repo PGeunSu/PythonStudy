{
 "cells": [
  {
   "cell_type": "code",
   "execution_count": 1,
   "metadata": {},
   "outputs": [
    {
     "name": "stdout",
     "output_type": "stream",
     "text": [
      "hello\n",
      "hello\n"
     ]
    }
   ],
   "source": [
    "print(\"hello\")  # 'hello'를 출력!\n",
    "print('hello')  # 'hello'를 출력!"
   ]
  },
  {
   "cell_type": "code",
   "execution_count": 2,
   "metadata": {},
   "outputs": [
    {
     "ename": "SyntaxError",
     "evalue": "invalid syntax (<ipython-input-2-5c19e5fd8ed1>, line 1)",
     "output_type": "error",
     "traceback": [
      "\u001b[1;36m  File \u001b[1;32m\"<ipython-input-2-5c19e5fd8ed1>\"\u001b[1;36m, line \u001b[1;32m1\u001b[0m\n\u001b[1;33m    print('My friend's house.')\u001b[0m\n\u001b[1;37m                     ^\u001b[0m\n\u001b[1;31mSyntaxError\u001b[0m\u001b[1;31m:\u001b[0m invalid syntax\n"
     ]
    }
   ],
   "source": [
    "print('My friend's house.')"
   ]
  },
  {
   "cell_type": "code",
   "execution_count": 3,
   "metadata": {},
   "outputs": [
    {
     "name": "stdout",
     "output_type": "stream",
     "text": [
      "My friend's house.\n"
     ]
    }
   ],
   "source": [
    "print(\"My friend's house.\")"
   ]
  },
  {
   "cell_type": "code",
   "execution_count": 4,
   "metadata": {},
   "outputs": [
    {
     "ename": "SyntaxError",
     "evalue": "invalid syntax (<ipython-input-4-f5e90ed55b11>, line 1)",
     "output_type": "error",
     "traceback": [
      "\u001b[1;36m  File \u001b[1;32m\"<ipython-input-4-f5e90ed55b11>\"\u001b[1;36m, line \u001b[1;32m1\u001b[0m\n\u001b[1;33m    print(\"그녀가 말했다. \"안녕!\".\")\u001b[0m\n\u001b[1;37m                     ^\u001b[0m\n\u001b[1;31mSyntaxError\u001b[0m\u001b[1;31m:\u001b[0m invalid syntax\n"
     ]
    }
   ],
   "source": [
    "print(\"그녀가 말했다. \"안녕!\".\")"
   ]
  },
  {
   "cell_type": "code",
   "execution_count": 5,
   "metadata": {},
   "outputs": [
    {
     "name": "stdout",
     "output_type": "stream",
     "text": [
      "그녀가 말했다. \"안녕!\".\n"
     ]
    }
   ],
   "source": [
    "print('그녀가 말했다. \"안녕!\".')"
   ]
  },
  {
   "cell_type": "code",
   "execution_count": 6,
   "metadata": {},
   "outputs": [
    {
     "name": "stdout",
     "output_type": "stream",
     "text": [
      "g\n"
     ]
    }
   ],
   "source": [
    "animal = 'frog'\n",
    "print(animal[3])"
   ]
  },
  {
   "cell_type": "code",
   "execution_count": 7,
   "metadata": {},
   "outputs": [
    {
     "name": "stdout",
     "output_type": "stream",
     "text": [
      "g\n"
     ]
    }
   ],
   "source": [
    "animal = 'frog'\n",
    "print(animal[-1])"
   ]
  },
  {
   "cell_type": "code",
   "execution_count": 8,
   "metadata": {},
   "outputs": [
    {
     "name": "stdout",
     "output_type": "stream",
     "text": [
      "진\n",
      "돗\n"
     ]
    }
   ],
   "source": [
    "animal = '진돗개'\n",
    "print(animal[0])\n",
    "print(animal[-2])"
   ]
  },
  {
   "cell_type": "code",
   "execution_count": 9,
   "metadata": {},
   "outputs": [
    {
     "name": "stdout",
     "output_type": "stream",
     "text": [
      "r\n"
     ]
    }
   ],
   "source": [
    "animal = 'frog'\n",
    "print(animal[1])"
   ]
  },
  {
   "cell_type": "code",
   "execution_count": 10,
   "metadata": {},
   "outputs": [
    {
     "name": "stdout",
     "output_type": "stream",
     "text": [
      "ro\n"
     ]
    }
   ],
   "source": [
    "animal = 'frog'\n",
    "print(animal[1:3])"
   ]
  },
  {
   "cell_type": "code",
   "execution_count": 11,
   "metadata": {},
   "outputs": [
    {
     "name": "stdout",
     "output_type": "stream",
     "text": [
      "fo\n"
     ]
    }
   ],
   "source": [
    "animal = 'frog'\n",
    "print(animal[0:3:2])"
   ]
  },
  {
   "cell_type": "code",
   "execution_count": 12,
   "metadata": {},
   "outputs": [
    {
     "name": "stdout",
     "output_type": "stream",
     "text": [
      "frog\n",
      "rog\n",
      "fr\n"
     ]
    }
   ],
   "source": [
    "animal = 'frog'\n",
    "print(animal[:])  # [:]는 전체의 문자열 출력\n",
    "print(animal[1:])  # [1:]는 인덱스 1에서부터 문자열의 끝까지 출력\n",
    "print(animal[:2])  # [:2]는 처음부터 2 직전까지의 내용 출력"
   ]
  },
  {
   "cell_type": "code",
   "execution_count": 13,
   "metadata": {},
   "outputs": [
    {
     "name": "stdout",
     "output_type": "stream",
     "text": [
      "eehn\n",
      "tapl\n"
     ]
    }
   ],
   "source": [
    "animal = 'elephant'\n",
    "print(animal[::2])\n",
    "print(animal[::-2])"
   ]
  },
  {
   "cell_type": "code",
   "execution_count": 14,
   "metadata": {},
   "outputs": [
    {
     "name": "stdout",
     "output_type": "stream",
     "text": [
      "진돗개\n"
     ]
    }
   ],
   "source": [
    "dog = '개'\n",
    "animal = '진돗' + dog\n",
    "print(animal)"
   ]
  },
  {
   "cell_type": "code",
   "execution_count": 15,
   "metadata": {},
   "outputs": [
    {
     "name": "stdout",
     "output_type": "stream",
     "text": [
      "8\n"
     ]
    }
   ],
   "source": [
    "animal = 'elephant'\n",
    "print(len(animal))"
   ]
  },
  {
   "cell_type": "code",
   "execution_count": 16,
   "metadata": {},
   "outputs": [
    {
     "name": "stdout",
     "output_type": "stream",
     "text": [
      "총 개수: 2\n"
     ]
    }
   ],
   "source": [
    "animal = 'elephant'\n",
    "print('총 개수:', animal.count('e'))"
   ]
  },
  {
   "cell_type": "code",
   "execution_count": 17,
   "metadata": {},
   "outputs": [
    {
     "name": "stdout",
     "output_type": "stream",
     "text": [
      "앞쪽 찾기: 0\n",
      "ep 찾기: 2\n",
      "뒤쪽 찾기: 2\n",
      "위치: 0\n",
      "el 시작: True\n"
     ]
    }
   ],
   "source": [
    "animal = 'elephant'\n",
    "print('앞쪽 찾기:', animal.find('e'))  # 문자나 문자열이 처음 나오는 인덱스 값을 반환\n",
    "print('ep 찾기:', animal.find('ep'))\n",
    "print('뒤쪽 찾기:', animal.rfind('e'))  # 문자나 문자열이 가장 나중에 나오는 인덱스 값을 반환\n",
    "print('위치:', animal.index('e'))  # find()의 기능과 동일, 찾는 내용이 없으면 에러 발생\n",
    "print('el 시작:', animal.startswith('el'))  # 해당 문자열로 시작하면 True, 그렇지 않으면 False 출력"
   ]
  },
  {
   "cell_type": "code",
   "execution_count": 18,
   "metadata": {},
   "outputs": [
    {
     "name": "stdout",
     "output_type": "stream",
     "text": [
      "n이 있다.: True\n",
      "an이 있다.: True\n",
      "an이 없다.: False\n"
     ]
    }
   ],
   "source": [
    "animal = 'elephant'\n",
    "print('n이 있다.:', 'n' in animal)\n",
    "print('an이 있다.:', 'an' in animal)\n",
    "print('an이 없다.:', 'an' not in animal)"
   ]
  },
  {
   "cell_type": "code",
   "execution_count": 19,
   "metadata": {},
   "outputs": [
    {
     "name": "stdout",
     "output_type": "stream",
     "text": [
      "선택수정: Python Program\n",
      "소문자: python program\n",
      "대문자: PYTHON PROGRAM\n",
      "swap대소문자: PYTHON PROGRAM\n",
      "첫문자만 대문자: Python program\n"
     ]
    }
   ],
   "source": [
    "ai = 'python program'\n",
    "print('선택수정:', ai.replace('p', 'P'))  # 단어 교체\n",
    "print('소문자:', ai.lower())  # 모든 문자들을 소문자로 변환\n",
    "print('대문자:', ai.upper())  # 모든 문자들을 대문자로 변환\n",
    "print('swap대소문자:', ai.swapcase())  # 모든 대/소문자들을 역으로 변환\n",
    "print('첫문자만 대문자:', ai.capitalize())  # 문자열의 첫 문자만 대문자로 수정"
   ]
  },
  {
   "cell_type": "code",
   "execution_count": 20,
   "metadata": {},
   "outputs": [
    {
     "name": "stdout",
     "output_type": "stream",
     "text": [
      "ELEPHANT\n"
     ]
    }
   ],
   "source": [
    "animal = 'Elephant'\n",
    "animal = animal.upper()\n",
    "print(animal)"
   ]
  },
  {
   "cell_type": "code",
   "execution_count": 21,
   "metadata": {},
   "outputs": [
    {
     "name": "stdout",
     "output_type": "stream",
     "text": [
      "왼쪽 벗겨내기: elephant \n",
      "오른쪽 벗겨내기:  elephant\n",
      "좌우 벗겨내기: elephant\n"
     ]
    }
   ],
   "source": [
    "animal = ' elephant '\n",
    "print('왼쪽 벗겨내기:', animal.lstrip())  # 문자열의 왼쪽편 공란(들)을 삭제\n",
    "print('오른쪽 벗겨내기:', animal.rstrip())  # 문자열의 오른쪽편 공란(들)을 삭제\n",
    "print('좌우 벗겨내기:', animal.strip())  # 문자열의 좌우의 공란(들)을 삭제"
   ]
  },
  {
   "cell_type": "code",
   "execution_count": 22,
   "metadata": {},
   "outputs": [
    {
     "data": {
      "text/plain": [
       "0.26822611552046305"
      ]
     },
     "execution_count": 22,
     "metadata": {},
     "output_type": "execute_result"
    }
   ],
   "source": [
    "import random\n",
    "random.random()  # 0에서 1 사이의 무작위 실수형 값을 출력"
   ]
  },
  {
   "cell_type": "code",
   "execution_count": 23,
   "metadata": {},
   "outputs": [
    {
     "name": "stdout",
     "output_type": "stream",
     "text": [
      "5\n"
     ]
    }
   ],
   "source": [
    "import random\n",
    "print(random.randrange(1, 6))  # 1에서 5까지의 무작위 수를 출력"
   ]
  },
  {
   "cell_type": "code",
   "execution_count": 24,
   "metadata": {},
   "outputs": [
    {
     "name": "stdout",
     "output_type": "stream",
     "text": [
      "글\n"
     ]
    }
   ],
   "source": [
    "import random\n",
    "chars = '한글우수'\n",
    "print(random.choice(chars))"
   ]
  },
  {
   "cell_type": "code",
   "execution_count": 25,
   "metadata": {},
   "outputs": [
    {
     "name": "stdout",
     "output_type": "stream",
     "text": [
      "글\n"
     ]
    }
   ],
   "source": [
    "import random\n",
    "chars = ['한', '글', '우', '수']\n",
    "print(random.choice(chars))"
   ]
  },
  {
   "cell_type": "code",
   "execution_count": 26,
   "metadata": {},
   "outputs": [
    {
     "name": "stdout",
     "output_type": "stream",
     "text": [
      "['수', '글', '한', '우']\n"
     ]
    }
   ],
   "source": [
    "import random\n",
    "chars = ['한', '글', '우', '수']\n",
    "random.shuffle(chars)  # 4개의 글자가 무작위 순으로 재배열 됨\n",
    "print(chars)"
   ]
  }
 ],
 "metadata": {
  "kernelspec": {
   "display_name": "Python 3",
   "language": "python",
   "name": "python3"
  },
  "language_info": {
   "codemirror_mode": {
    "name": "ipython",
    "version": 3
   },
   "file_extension": ".py",
   "mimetype": "text/x-python",
   "name": "python",
   "nbconvert_exporter": "python",
   "pygments_lexer": "ipython3",
   "version": "3.8.3"
  }
 },
 "nbformat": 4,
 "nbformat_minor": 4
}
