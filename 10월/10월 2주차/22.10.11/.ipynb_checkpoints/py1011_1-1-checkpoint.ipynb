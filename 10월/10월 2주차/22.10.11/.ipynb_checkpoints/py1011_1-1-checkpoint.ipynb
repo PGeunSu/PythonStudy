{
 "cells": [
  {
   "cell_type": "code",
   "execution_count": 1,
   "id": "6c75905b",
   "metadata": {},
   "outputs": [
    {
     "name": "stdout",
     "output_type": "stream",
     "text": [
      "5\n"
     ]
    }
   ],
   "source": [
    "a=\"5\"\n",
    "print(int(a))"
   ]
  },
  {
   "cell_type": "code",
   "execution_count": 3,
   "id": "59be07e0",
   "metadata": {},
   "outputs": [
    {
     "name": "stdout",
     "output_type": "stream",
     "text": [
      "5.5\n"
     ]
    }
   ],
   "source": [
    "b=\"5.5\"\n",
    "print(float(b))"
   ]
  },
  {
   "cell_type": "code",
   "execution_count": 4,
   "id": "2c84afbf",
   "metadata": {},
   "outputs": [],
   "source": [
    "# 사용자로 부터 정수 5를 입력 받아 3으로 곱한 결과를 출력하라"
   ]
  },
  {
   "cell_type": "code",
   "execution_count": 8,
   "id": "49de9542",
   "metadata": {},
   "outputs": [
    {
     "name": "stdout",
     "output_type": "stream",
     "text": [
      "사용자가 입력한 값 : 5\n"
     ]
    }
   ],
   "source": [
    "num = input(\"사용자가 입력한 값 : \")"
   ]
  },
  {
   "cell_type": "code",
   "execution_count": 9,
   "id": "c625e9f6",
   "metadata": {},
   "outputs": [
    {
     "name": "stdout",
     "output_type": "stream",
     "text": [
      "3 * 사용자가 입력한 값 :  15\n"
     ]
    }
   ],
   "source": [
    "value = 3 * int(num)\n",
    "print(\"3 * 사용자가 입력한 값 : \", value)"
   ]
  },
  {
   "cell_type": "code",
   "execution_count": 11,
   "id": "20842e5e",
   "metadata": {},
   "outputs": [
    {
     "name": "stdout",
     "output_type": "stream",
     "text": [
      "입력 값 : 5\n",
      "15\n"
     ]
    }
   ],
   "source": [
    "print(int(input(\"입력 값 : \"))*3)"
   ]
  },
  {
   "cell_type": "code",
   "execution_count": null,
   "id": "ef6faba0",
   "metadata": {},
   "outputs": [],
   "source": []
  }
 ],
 "metadata": {
  "kernelspec": {
   "display_name": "Python 3 (ipykernel)",
   "language": "python",
   "name": "python3"
  },
  "language_info": {
   "codemirror_mode": {
    "name": "ipython",
    "version": 3
   },
   "file_extension": ".py",
   "mimetype": "text/x-python",
   "name": "python",
   "nbconvert_exporter": "python",
   "pygments_lexer": "ipython3",
   "version": "3.9.12"
  }
 },
 "nbformat": 4,
 "nbformat_minor": 5
}
