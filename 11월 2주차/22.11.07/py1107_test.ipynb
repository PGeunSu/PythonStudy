{
 "cells": [
  {
   "cell_type": "code",
   "execution_count": 7,
   "id": "dcc86e9f",
   "metadata": {},
   "outputs": [
    {
     "name": "stdout",
     "output_type": "stream",
     "text": [
      "1번째 게시글의 제목 : [중간선거 D-1]월가는 의회 분열을 좋아해…더 큰 문제는 '인플레'\n",
      "2번째 게시글의 제목 : 예산정국 흔드는 참사…\"안전예산 1조 깎여\" vs \"4천억 늘렸다\"\n",
      "3번째 게시글의 제목 : 배추의 세계\n",
      "4번째 게시글의 제목 : 김장용 배추 출하\n",
      "5번째 게시글의 제목 : 김장철 맞아 배수 수확 한창\n",
      "6번째 게시글의 제목 : 배추 수확 한창\n",
      "7번째 게시글의 제목 : 배추 갑니다\n",
      "8번째 게시글의 제목 : 김장을 위해\n",
      "9번째 게시글의 제목 : 나비, 11일에 컴백해요~ [SE★포토]\n",
      "10번째 게시글의 제목 : [속보] 前용산서장·112 상황실장·용산구청장 등 6명 입건\n",
      "11번째 게시글의 제목 : [이태원 참사] 용산서장·용산구청장 등 6명 입건 '업무상 과실치사'…줄소환 예고\n",
      "12번째 게시글의 제목 : [포토친구] 풍경도 가을! 인생도 가을\n",
      "13번째 게시글의 제목 : 선우스님 \"진관사 사찰음식 수륙재서 나온 전통문화\"\n",
      "14번째 게시글의 제목 : 다누리, 지구 밖 128만㎞ 우주에서 3분 43초 'BTS 뮤비' 2800여개로 쪼개 보냈다\n",
      "15번째 게시글의 제목 : [신간] '좀비시대'…물질만능주의로 병든 사회를 비판하다\n",
      "16번째 게시글의 제목 : [포토] 랄랄 '기자님들 수고하세요'\n",
      "17번째 게시글의 제목 : 장혜진, 화가로 새로운 도전…첫 개인전 개최\n",
      "18번째 게시글의 제목 : 김호중 전국투어 일산 공연도 초고속 매진? 티켓 오픈 임박\n",
      "19번째 게시글의 제목 : [포토] 설현, '팔장끼고 시크하게'\n",
      "20번째 게시글의 제목 : 롯데렌탈, 3분기 영업이익 940억원…분기 최대 실적\n"
     ]
    }
   ],
   "source": [
    "import requests\n",
    "from bs4 import BeautifulSoup as bs\n",
    "\n",
    "page = requests.get(\"https://news.nate.com/recent?mid=n0100\")\n",
    "\n",
    "soup = bs(page.text , \"html.parser\")\n",
    "\n",
    "elements = soup.select(\"div.mlt01 a .tb .tit\")\n",
    "\n",
    "for index, element in enumerate(elements, 1):\n",
    "    print(\"{}번째 게시글의 제목 : {}\".format(index, element.text))\n",
    "\n"
   ]
  },
  {
   "cell_type": "code",
   "execution_count": null,
   "id": "0dd0aee9",
   "metadata": {},
   "outputs": [],
   "source": []
  }
 ],
 "metadata": {
  "kernelspec": {
   "display_name": "Python 3 (ipykernel)",
   "language": "python",
   "name": "python3"
  },
  "language_info": {
   "codemirror_mode": {
    "name": "ipython",
    "version": 3
   },
   "file_extension": ".py",
   "mimetype": "text/x-python",
   "name": "python",
   "nbconvert_exporter": "python",
   "pygments_lexer": "ipython3",
   "version": "3.9.13"
  }
 },
 "nbformat": 4,
 "nbformat_minor": 5
}
