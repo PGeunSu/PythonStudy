{
 "cells": [
  {
   "cell_type": "code",
   "execution_count": 1,
   "metadata": {},
   "outputs": [
    {
     "name": "stdout",
     "output_type": "stream",
     "text": [
      "합격입니다.\n",
      "\n"
     ]
    }
   ],
   "source": [
    "grade = 82\n",
    "if (grade >= 80):\n",
    "    print('합격입니다.\\n')"
   ]
  },
  {
   "cell_type": "code",
   "execution_count": 2,
   "metadata": {},
   "outputs": [
    {
     "name": "stdout",
     "output_type": "stream",
     "text": [
      "당신은 성인입니다.\n",
      "\n"
     ]
    }
   ],
   "source": [
    "age = 20\n",
    "if (age >= 19):\n",
    "    print('당신은 성인입니다.\\n')\n",
    "else :\n",
    "    print('당신은 미성년자입니다.\\n')"
   ]
  },
  {
   "cell_type": "code",
   "execution_count": 3,
   "metadata": {},
   "outputs": [
    {
     "name": "stdout",
     "output_type": "stream",
     "text": [
      "당신은 미성년자입니다.\n",
      "1 살이 부족함.\n"
     ]
    }
   ],
   "source": [
    "age = 18\n",
    "if (age >= 19):\n",
    "    print('당신은 성인입니다.')\n",
    "    print(age-19, '살 넘음.')\n",
    "else :\n",
    "    print('당신은 미성년자입니다.')\n",
    "    print(19-age, '살이 부족함.')"
   ]
  },
  {
   "cell_type": "code",
   "execution_count": 4,
   "metadata": {},
   "outputs": [
    {
     "name": "stdout",
     "output_type": "stream",
     "text": [
      "음수\n"
     ]
    }
   ],
   "source": [
    "num = -1\n",
    "if (num > 0):\n",
    "    print('양수!')\n",
    "elif (num < 0):\n",
    "    print('음수')\n",
    "else :\n",
    "    print('0')"
   ]
  }
 ],
 "metadata": {
  "kernelspec": {
   "display_name": "Python 3",
   "language": "python",
   "name": "python3"
  },
  "language_info": {
   "codemirror_mode": {
    "name": "ipython",
    "version": 3
   },
   "file_extension": ".py",
   "mimetype": "text/x-python",
   "name": "python",
   "nbconvert_exporter": "python",
   "pygments_lexer": "ipython3",
   "version": "3.8.3"
  }
 },
 "nbformat": 4,
 "nbformat_minor": 4
}
