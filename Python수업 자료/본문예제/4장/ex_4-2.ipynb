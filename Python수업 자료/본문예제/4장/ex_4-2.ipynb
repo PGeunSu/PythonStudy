{
 "cells": [
  {
   "cell_type": "code",
   "execution_count": 1,
   "metadata": {},
   "outputs": [],
   "source": [
    "import turtle\n",
    "turtle.forward(100)"
   ]
  },
  {
   "cell_type": "code",
   "execution_count": 2,
   "metadata": {},
   "outputs": [],
   "source": [
    "import turtle\n",
    "turtle.shape('turtle')\n",
    "turtle.forward(100)"
   ]
  },
  {
   "cell_type": "code",
   "execution_count": 3,
   "metadata": {},
   "outputs": [],
   "source": [
    "import turtle\n",
    "turtle.forward(100)\n",
    "turtle.right(90)"
   ]
  },
  {
   "cell_type": "code",
   "execution_count": 4,
   "metadata": {},
   "outputs": [],
   "source": [
    "import turtle\n",
    "turtle.forward(100)\n",
    "turtle.right(90)\n",
    "turtle.forward(100)"
   ]
  },
  {
   "cell_type": "code",
   "execution_count": 5,
   "metadata": {},
   "outputs": [],
   "source": [
    "import turtle\n",
    "turtle.forward(100)\n",
    "turtle.right(90)\n",
    "turtle.forward(100)\n",
    "import math\n",
    "turtle.right(90+45)  # 원점 방향으로 방향 전환하기\n",
    "turtle.forward(math.sqrt(100*100*2))  # 빗변의 길이를 계산 후 선긋기"
   ]
  },
  {
   "cell_type": "code",
   "execution_count": 6,
   "metadata": {},
   "outputs": [],
   "source": [
    "import turtle\n",
    "turtle.forward(100)\n",
    "turtle.right(90)\n",
    "turtle.forward(100)\n",
    "turtle.setpos(0, 0)"
   ]
  },
  {
   "cell_type": "code",
   "execution_count": 7,
   "metadata": {},
   "outputs": [],
   "source": [
    "import turtle\n",
    "turtle.circle(100)"
   ]
  },
  {
   "cell_type": "code",
   "execution_count": 8,
   "metadata": {},
   "outputs": [],
   "source": [
    "import turtle\n",
    "turtle.circle(-100)"
   ]
  },
  {
   "cell_type": "code",
   "execution_count": 9,
   "metadata": {},
   "outputs": [],
   "source": [
    "import turtle\n",
    "turtle.pencolor('red')\n",
    "turtle.forward(200)\n",
    "turtle.pencolor('blue')\n",
    "turtle.circle(100)"
   ]
  },
  {
   "cell_type": "code",
   "execution_count": 10,
   "metadata": {},
   "outputs": [],
   "source": [
    "import turtle\n",
    "turtle.begin_fill()\n",
    "turtle.circle(50)\n",
    "turtle.end_fill()\n",
    "turtle.circle(-100)"
   ]
  },
  {
   "cell_type": "code",
   "execution_count": 11,
   "metadata": {},
   "outputs": [],
   "source": [
    "import turtle\n",
    "turtle.color('red')\n",
    "turtle.begin_fill()\n",
    "turtle.circle(50)\n",
    "turtle.end_fill()\n",
    "turtle.pencolor('blue')\n",
    "turtle.circle(-100)"
   ]
  },
  {
   "cell_type": "code",
   "execution_count": 12,
   "metadata": {},
   "outputs": [
    {
     "name": "stdout",
     "output_type": "stream",
     "text": [
      "2\n"
     ]
    }
   ],
   "source": [
    "import random\n",
    "print(random.randint(1, 2))"
   ]
  },
  {
   "cell_type": "code",
   "execution_count": 13,
   "metadata": {},
   "outputs": [
    {
     "name": "stdout",
     "output_type": "stream",
     "text": [
      "78\n"
     ]
    }
   ],
   "source": [
    "import random\n",
    "print(random.randint(50, 100))"
   ]
  },
  {
   "cell_type": "code",
   "execution_count": 14,
   "metadata": {},
   "outputs": [],
   "source": [
    "import turtle\n",
    "import random\n",
    "for i in range(10):\n",
    "    for j in range(5):\n",
    "        col = random.randint(0, 3)\n",
    "        if (0 == col):\n",
    "            turtle.pencolor(\"yellow\")\n",
    "        elif (1 == col):\n",
    "            turtle.pencolor(\"blue\")\n",
    "        elif (2 == col):\n",
    "            turtle.pencolor(\"red\")\n",
    "        elif (3 == col):\n",
    "            turtle.pencolor(\"green\")\n",
    "        col = random.randint(0, 4)\n",
    "        if (0 == col):\n",
    "            turtle.color('red')\n",
    "        elif (1 == col):\n",
    "            turtle.color('blue')\n",
    "        elif (2 == col):\n",
    "            turtle.color('green')\n",
    "        elif (3 == col):\n",
    "            turtle.color('purple')\n",
    "        elif (4 == col):\n",
    "            turtle.color('yellow')\n",
    "        sel = random.randint(0, 4)\n",
    "        if (0 == sel):\n",
    "            turtle.forward(random.randint(50, 100))\n",
    "        elif (1 == sel):\n",
    "            turtle.right(random.randint(90, 360))\n",
    "        elif (2 == sel):\n",
    "            turtle.begin_fill()\n",
    "            turtle.circle(random.randint(-100, -20))\n",
    "            turtle.end_fill()\n",
    "        elif (3 == sel):\n",
    "            turtle.forward(random.randint(30, 50))\n",
    "        elif (4 == sel):\n",
    "            turtle.circle(random.randint(20, 100))\n",
    "    a = float(random.randint(-300, 300))\n",
    "    b = float(random.randint(-300, 300))\n",
    "    turtle.goto(a, b)"
   ]
  }
 ],
 "metadata": {
  "kernelspec": {
   "display_name": "Python 3",
   "language": "python",
   "name": "python3"
  },
  "language_info": {
   "codemirror_mode": {
    "name": "ipython",
    "version": 3
   },
   "file_extension": ".py",
   "mimetype": "text/x-python",
   "name": "python",
   "nbconvert_exporter": "python",
   "pygments_lexer": "ipython3",
   "version": "3.8.3"
  }
 },
 "nbformat": 4,
 "nbformat_minor": 4
}
