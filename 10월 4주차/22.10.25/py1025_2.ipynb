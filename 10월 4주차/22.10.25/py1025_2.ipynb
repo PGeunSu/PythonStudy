{
 "cells": [
  {
   "cell_type": "code",
   "execution_count": 1,
   "id": "bb41a8a1",
   "metadata": {},
   "outputs": [
    {
     "name": "stdout",
     "output_type": "stream",
     "text": [
      "{'지훈': 1234, '수민': 2345}\n"
     ]
    }
   ],
   "source": [
    "student = {}\n",
    "student[\"지훈\"]=1234\n",
    "student[\"수민\"] = 2345\n",
    "print(student) #key와 value로 쌍으로 이루어짐"
   ]
  },
  {
   "cell_type": "code",
   "execution_count": 2,
   "id": "2985d8f1",
   "metadata": {},
   "outputs": [
    {
     "name": "stdout",
     "output_type": "stream",
     "text": [
      "dict_keys(['지훈', '수민'])\n",
      "dict_values([1234, 2345])\n",
      "dict_items([('지훈', 1234), ('수민', 2345)])\n"
     ]
    }
   ],
   "source": [
    "print(student.keys())\n",
    "print(student.values())\n",
    "print(student.items())#사전에 있는 모든 값을 반환"
   ]
  },
  {
   "cell_type": "code",
   "execution_count": 6,
   "id": "7affc345",
   "metadata": {},
   "outputs": [
    {
     "name": "stdout",
     "output_type": "stream",
     "text": [
      "None\n",
      "None\n"
     ]
    }
   ],
   "source": [
    "print(student.get(\"지훈\"))\n",
    "print(student.get(\"수민\"))"
   ]
  },
  {
   "cell_type": "code",
   "execution_count": 4,
   "id": "83b0af64",
   "metadata": {},
   "outputs": [
    {
     "name": "stdout",
     "output_type": "stream",
     "text": [
      "{'현준': 1234, '민지': 2345}\n",
      "{'현준': 1234, '민지': 2345}\n",
      "{'현준': 1234, '민지': 2345}\n"
     ]
    }
   ],
   "source": [
    "student = dict([['현준', 1234], ['민지', 2345]])\n",
    "print(student)\n",
    "student = dict([('현준', 1234), ('민지', 2345)])\n",
    "print(student)\n",
    "student = dict((('현준', 1234), ('민지', 2345)))\n",
    "print(student)"
   ]
  },
  {
   "cell_type": "code",
   "execution_count": 15,
   "id": "7798796b",
   "metadata": {},
   "outputs": [
    {
     "name": "stdout",
     "output_type": "stream",
     "text": [
      "ㅎㅇㅎㅇ\n"
     ]
    }
   ],
   "source": [
    "f = open(\"data.txt\",\"r\" ,encoding=\"utf-8\")\n",
    "data = f.read()\n",
    "print(data)\n",
    "f.close()"
   ]
  },
  {
   "cell_type": "code",
   "execution_count": 19,
   "id": "addc9b6b",
   "metadata": {},
   "outputs": [],
   "source": [
    "import json\n",
    "a = [1,2,3,{'4':5,'6':7}]"
   ]
  },
  {
   "cell_type": "code",
   "execution_count": 20,
   "id": "5d5a9752",
   "metadata": {},
   "outputs": [
    {
     "name": "stdout",
     "output_type": "stream",
     "text": [
      "[1, 2, 3, {\"4\": 5, \"6\": 7}]\n"
     ]
    }
   ],
   "source": [
    "b = json.dumps(a)\n",
    "print(b) #파이썬 데이터가 -> json 변환"
   ]
  },
  {
   "cell_type": "code",
   "execution_count": 21,
   "id": "0f15a951",
   "metadata": {},
   "outputs": [
    {
     "name": "stdout",
     "output_type": "stream",
     "text": [
      "[1, 2, 3, {'4': 5, '6': 7}]\n"
     ]
    }
   ],
   "source": [
    "c = json.loads(b)\n",
    "print(c) #loads : json -> python 변환"
   ]
  },
  {
   "cell_type": "code",
   "execution_count": 27,
   "id": "d429cf24",
   "metadata": {},
   "outputs": [],
   "source": [
    "c = \"\"\"\n",
    "        <div class=\"select_div\">\n",
    "            <span data-i18n=\"footer.relationSites\">연관사이트</span>\n",
    "            <ul>\n",
    "\n",
    "\n",
    "            </ul>\n",
    "        </div>\n",
    "        <ul class=\"list_sns\">\n",
    "            <li><a href=\"https://www.facebook.com/ekoreatech\" target=\"_blank\"><img src=\"/res/lms/img/common/btn_footer_sns1.png\" alt=\"페이스북\"></a></li>\n",
    "            <li><a href=\"https://blog.naver.com/e-koreatech\" target=\"_blank\"><img src=\"/res/lms/img/common/btn_footer_sns2.png\" alt=\"블로그\"></a></li>\n",
    "            <li><a href=\"https://www.youtube.com/user/koreatecholei\" target=\"_blank\"><img src=\"/res/lms/img/common/btn_footer_sns3.png\" alt=\"유트브\"></a></li>\n",
    "        </ul>\n",
    "\"\"\""
   ]
  },
  {
   "cell_type": "code",
   "execution_count": 5,
   "id": "503cafa7",
   "metadata": {},
   "outputs": [
    {
     "name": "stdout",
     "output_type": "stream",
     "text": [
      "169\n"
     ]
    }
   ],
   "source": [
    "print(c.find(\"list_sns\"))"
   ]
  },
  {
   "cell_type": "code",
   "execution_count": 6,
   "id": "dbc3adf2",
   "metadata": {},
   "outputs": [
    {
     "name": "stdout",
     "output_type": "stream",
     "text": [
      "list_sns\">\n",
      "            <li><a href=\"https://www.facebook.com/ekoreatech\" target=\"_blank\"><img src=\"/res/lms/img/common/btn_footer_sns1.png\" alt=\"페이스북\"></a></li>\n",
      "            <li><a hre|f=\"https://blog.naver.com/e-koreatech\" target=\"_blank\"><img src=\"/res/lms/img/common/btn_footer_sns2.png\" alt=\"블로그\"></a></li>\n",
      "            <li><a href=\"https://www.youtube.com/user/koreatecholei\" target=\"_blank\"><img src=\"/res/lms/img/common/btn_footer_sns3.png\" alt=\"유트브\"></a></li>\n",
      "        </ul>\n",
      "\n"
     ]
    }
   ],
   "source": [
    "c = c[169:]\n",
    "print(c)"
   ]
  },
  {
   "cell_type": "code",
   "execution_count": 7,
   "id": "431f8d49",
   "metadata": {},
   "outputs": [
    {
     "name": "stdout",
     "output_type": "stream",
     "text": [
      "['list_sns\">\\n            <li><a href=\"https://www.facebook.com/ekoreatech\" target=\"_blank\"><img src=\"/res/lms/img/common/btn_footer_sns1.png\" alt=\"페이스북\"></a>', '\\n            <li><a hre|f=\"https://blog.naver.com/e-koreatech\" target=\"_blank\"><img src=\"/res/lms/img/common/btn_footer_sns2.png\" alt=\"블로그\"></a>', '\\n            <li><a href=\"https://www.youtube.com/user/koreatecholei\" target=\"_blank\"><img src=\"/res/lms/img/common/btn_footer_sns3.png\" alt=\"유트브\"></a>', '\\n        </ul>\\n']\n"
     ]
    }
   ],
   "source": [
    "c = c.split('</li>')\n",
    "print(c)"
   ]
  },
  {
   "cell_type": "code",
   "execution_count": 8,
   "id": "c9e96e81",
   "metadata": {},
   "outputs": [
    {
     "name": "stdout",
     "output_type": "stream",
     "text": [
      "list_sns\">\n",
      "            <li><a href=\"https://www.facebook.com/ekoreatech\" target=\"_blank\"><img src=\"/res/lms/img/common/btn_footer_sns1.png\" alt=\"페이스북\"></a>\n"
     ]
    }
   ],
   "source": [
    "print(c[0])"
   ]
  },
  {
   "cell_type": "code",
   "execution_count": 9,
   "id": "4d349f55",
   "metadata": {},
   "outputs": [
    {
     "name": "stdout",
     "output_type": "stream",
     "text": [
      "list_sns\">\n",
      "            <li><a href=\"https://www.facebook.com/ekoreatech\n"
     ]
    }
   ],
   "source": [
    "url = c[0].split('\" target')[0]\n",
    "print(url)"
   ]
  },
  {
   "cell_type": "code",
   "execution_count": 10,
   "id": "7aac22ac",
   "metadata": {},
   "outputs": [
    {
     "name": "stdout",
     "output_type": "stream",
     "text": [
      "https://www.facebook.com/ekoreatech\n"
     ]
    }
   ],
   "source": [
    "url = url.split('href=\"')[1]\n",
    "print(url)"
   ]
  },
  {
   "cell_type": "code",
   "execution_count": 11,
   "id": "90bb8c74",
   "metadata": {},
   "outputs": [
    {
     "name": "stdout",
     "output_type": "stream",
     "text": [
      "list_sns\">\n",
      "            <li><a href=\"https://www.facebook.com/ekoreatech\" target=\"_blank\"><img src=\"/res/lms/img/common/btn_footer_sns1.png\" alt=\"페이스북\"></a>\n"
     ]
    }
   ],
   "source": [
    "print(c[0])"
   ]
  },
  {
   "cell_type": "code",
   "execution_count": 12,
   "id": "d6be87c8",
   "metadata": {},
   "outputs": [
    {
     "name": "stdout",
     "output_type": "stream",
     "text": [
      "list_sns\">\n",
      "            <li><a href=\"https://www.facebook.com/ekoreatech\" target=\"_blank\"><img src=\"/res/lms/img/common/btn_footer_sns1.png\" alt=\"페이스북\n"
     ]
    }
   ],
   "source": [
    "result = c[0].split('\"></a')[0]\n",
    "print(result)"
   ]
  },
  {
   "cell_type": "code",
   "execution_count": 13,
   "id": "0e4d7f79",
   "metadata": {},
   "outputs": [
    {
     "name": "stdout",
     "output_type": "stream",
     "text": [
      "페이스북\n"
     ]
    }
   ],
   "source": [
    "result = result.split('alt=\"')[1]\n",
    "print(result)"
   ]
  }
 ],
 "metadata": {
  "kernelspec": {
   "display_name": "Python 3 (ipykernel)",
   "language": "python",
   "name": "python3"
  },
  "language_info": {
   "codemirror_mode": {
    "name": "ipython",
    "version": 3
   },
   "file_extension": ".py",
   "mimetype": "text/x-python",
   "name": "python",
   "nbconvert_exporter": "python",
   "pygments_lexer": "ipython3",
   "version": "3.9.12"
  }
 },
 "nbformat": 4,
 "nbformat_minor": 5
}
