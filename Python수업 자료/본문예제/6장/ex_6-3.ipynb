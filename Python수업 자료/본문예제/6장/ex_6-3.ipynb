{
 "cells": [
  {
   "cell_type": "code",
   "execution_count": 1,
   "metadata": {},
   "outputs": [
    {
     "name": "stdout",
     "output_type": "stream",
     "text": [
      "이름: 준서 나이: 21\n"
     ]
    }
   ],
   "source": [
    "class You:\n",
    "    def __init__(self, n, a) :\n",
    "        self.name = n\n",
    "        self.age = a\n",
    "    def show(self) :\n",
    "        print('이름:', self.name, '나이:', self.age)\n",
    "my = You('준서', 21)  # 객체가 생성될 때 __init__() 생성자 자동 실행\n",
    "my.show()"
   ]
  }
 ],
 "metadata": {
  "kernelspec": {
   "display_name": "Python 3",
   "language": "python",
   "name": "python3"
  },
  "language_info": {
   "codemirror_mode": {
    "name": "ipython",
    "version": 3
   },
   "file_extension": ".py",
   "mimetype": "text/x-python",
   "name": "python",
   "nbconvert_exporter": "python",
   "pygments_lexer": "ipython3",
   "version": "3.8.3"
  }
 },
 "nbformat": 4,
 "nbformat_minor": 4
}
