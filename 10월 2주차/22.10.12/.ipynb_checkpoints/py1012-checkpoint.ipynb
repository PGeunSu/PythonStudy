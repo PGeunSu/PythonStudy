{
 "cells": [
  {
   "cell_type": "code",
   "execution_count": 1,
   "id": "e10e0dcc",
   "metadata": {},
   "outputs": [
    {
     "name": "stdout",
     "output_type": "stream",
     "text": [
      "합격입니다. \n",
      " ㅎㅎ\n"
     ]
    }
   ],
   "source": [
    "grade = 82\n",
    "if(grade >=80):     #조건식 이후에는 콜론 (:) 을 기입 \n",
    "    print(\"합격입니다. \\n ㅎㅎ\") # 들여쓰기를 정확히 해야 에러가 발생하지 않음 ."
   ]
  },
  {
   "cell_type": "code",
   "execution_count": 3,
   "id": "0809f7d5",
   "metadata": {},
   "outputs": [
    {
     "name": "stdout",
     "output_type": "stream",
     "text": [
      "당신은 성인입니다. \n",
      "\n"
     ]
    }
   ],
   "source": [
    "age = 20\n",
    "if(age >= 19):\n",
    "    print(\"당신은 성인입니다. \\n\")\n",
    "else:\n",
    "    print(\"당신은 미성년자 입니다.\")"
   ]
  },
  {
   "cell_type": "code",
   "execution_count": 4,
   "id": "e08f3302",
   "metadata": {},
   "outputs": [
    {
     "name": "stdout",
     "output_type": "stream",
     "text": [
      "당신은 미성년자입니다.\n",
      "1 살이 부족함\n"
     ]
    }
   ],
   "source": [
    "age = 18\n",
    "if(age >= 19):\n",
    "    print(\"당신은 성인입니다.\")\n",
    "    print(age-19, \"살 넘음\")\n",
    "else:\n",
    "    print(\"당신은 미성년자입니다.\")\n",
    "    print(19-age,\"살이 부족함\")"
   ]
  },
  {
   "cell_type": "code",
   "execution_count": 5,
   "id": "8f3ea284",
   "metadata": {},
   "outputs": [
    {
     "name": "stdout",
     "output_type": "stream",
     "text": [
      "음수!\n"
     ]
    }
   ],
   "source": [
    "num = -1\n",
    "if(num > 0):\n",
    "    print(\"양수!\")\n",
    "elif(num < 0): # else if를 줄인 elif를 사용\n",
    "    print(\"음수!\")\n",
    "else:\n",
    "    print(\"0\")"
   ]
  },
  {
   "cell_type": "code",
   "execution_count": 4,
   "id": "014e0e03",
   "metadata": {},
   "outputs": [
    {
     "name": "stdout",
     "output_type": "stream",
     "text": [
      "평균 점수를 입력하세요 : 40\n",
      "F학점 재수강 바람\n"
     ]
    }
   ],
   "source": [
    "avg = int(input(\"평균 점수를 입력하세요 : \"))\n",
    "if(avg >= 90):\n",
    "    print(\"A학점\")\n",
    "elif(avg >= 80):\n",
    "    print(\"B학점\")\n",
    "elif(avg >= 70):\n",
    "    print(\"C학점\")\n",
    "elif(avg >= 60):\n",
    "    print(\"D학점\")\n",
    "else:\n",
    "    print(\"F학점 재수강 바람\")"
   ]
  },
  {
   "cell_type": "code",
   "execution_count": 2,
   "id": "f85ee111",
   "metadata": {},
   "outputs": [
    {
     "name": "stdout",
     "output_type": "stream",
     "text": [
      "안녕\n",
      "안녕\n",
      "안녕\n"
     ]
    }
   ],
   "source": [
    "for i in range(3): #range() 함수를 사용하여 반복\n",
    "    print(\"안녕\") #for 변수 in (범위 또는 배열)"
   ]
  },
  {
   "cell_type": "code",
   "execution_count": 3,
   "id": "aef51317",
   "metadata": {},
   "outputs": [
    {
     "name": "stdout",
     "output_type": "stream",
     "text": [
      "0\n",
      "1\n",
      "2\n"
     ]
    }
   ],
   "source": [
    "for i in range(3):\n",
    "    print(i) #0부터 3보다 하나 적을 떄 까지 반복"
   ]
  },
  {
   "cell_type": "code",
   "execution_count": 7,
   "id": "275f3317",
   "metadata": {},
   "outputs": [
    {
     "name": "stdout",
     "output_type": "stream",
     "text": [
      "2\n",
      "3\n",
      "4\n",
      "5\n"
     ]
    }
   ],
   "source": [
    "for i in range(2,6):\n",
    "    print(i) #2부터 6보다 하나 적을 때 가지 반복"
   ]
  },
  {
   "cell_type": "code",
   "execution_count": 8,
   "id": "efc845ad",
   "metadata": {},
   "outputs": [
    {
     "name": "stdout",
     "output_type": "stream",
     "text": [
      "0\n",
      "2\n",
      "4\n",
      "6\n"
     ]
    }
   ],
   "source": [
    "for i in range(0,7,2):\n",
    "    print(i) # range (시작값, 마지막값+1, 증가값)"
   ]
  },
  {
   "cell_type": "code",
   "execution_count": 9,
   "id": "72495fd7",
   "metadata": {},
   "outputs": [
    {
     "name": "stdout",
     "output_type": "stream",
     "text": [
      "6\n",
      "4\n",
      "2\n",
      "0\n"
     ]
    }
   ],
   "source": [
    "for i in range(6, -1, -2):\n",
    "    print(i)# range (시작값, 마지막값-1, 감소값)"
   ]
  },
  {
   "cell_type": "code",
   "execution_count": 11,
   "id": "e2a4483e",
   "metadata": {},
   "outputs": [
    {
     "name": "stdout",
     "output_type": "stream",
     "text": [
      "3\n",
      "5\n",
      "7\n"
     ]
    }
   ],
   "source": [
    "#3에서부터 2의 간격으로 7까지의 정수를 출력\n",
    "for i in range(3,8,2):\n",
    "    print(i)\n"
   ]
  },
  {
   "cell_type": "code",
   "execution_count": 17,
   "id": "22c2ed67",
   "metadata": {},
   "outputs": [
    {
     "name": "stdout",
     "output_type": "stream",
     "text": [
      "합계 :  55\n"
     ]
    }
   ],
   "source": [
    "#1에서 10까지 정수의 합을 구하시오\n",
    "sum=0\n",
    "for i in range(1,11): \n",
    "    sum += i\n",
    "    \n",
    "print(\"합계 : \", sum)"
   ]
  },
  {
   "cell_type": "code",
   "execution_count": 21,
   "id": "33ab686d",
   "metadata": {},
   "outputs": [
    {
     "name": "stdout",
     "output_type": "stream",
     "text": [
      "10\n",
      "9\n",
      "8\n",
      "7\n",
      "6\n",
      "5\n",
      "4\n",
      "3\n",
      "2\n",
      "1\n",
      "FIre in the hole!\n"
     ]
    }
   ],
   "source": [
    "import time #import time 명령문 필요\n",
    "for i in range(10, 0, -1):\n",
    "    print(i)\n",
    "    time.sleep(0.5) #sleep 함수의 입력값은 초(second)단위이며 숫자를 1개씩 출력할 떄 n초의 딜레이 발생 \n",
    "print(\"FIre in the hole!\")"
   ]
  },
  {
   "cell_type": "code",
   "execution_count": 31,
   "id": "c4033f4b",
   "metadata": {},
   "outputs": [
    {
     "name": "stdout",
     "output_type": "stream",
     "text": [
      "*()*()*()*()*()*()*()*()*()"
     ]
    }
   ],
   "source": [
    "for i in range(3):\n",
    "    for j in range(3):\n",
    "        print(\"*\",end=\" \")\n",
    "#end를 사용하면 앞의 문자열을 출력한 후 개행하지 않고 end의 설정된 값을 출력"
   ]
  },
  {
   "cell_type": "code",
   "execution_count": 35,
   "id": "fc717b5e",
   "metadata": {},
   "outputs": [
    {
     "name": "stdout",
     "output_type": "stream",
     "text": [
      "* * * \n",
      "* * * \n",
      "* * * \n"
     ]
    }
   ],
   "source": [
    "for i in range(3):\n",
    "    for j in range(3):\n",
    "        print(\"*\",end=\" \")\n",
    "    print(\"\")"
   ]
  },
  {
   "cell_type": "code",
   "execution_count": 43,
   "id": "c8ba7191",
   "metadata": {
    "scrolled": true
   },
   "outputs": [
    {
     "name": "stdout",
     "output_type": "stream",
     "text": [
      "1\t2\t3\t4\t5\t6\t7\t8\t9\t\n",
      "\n",
      "2\t4\t6\t8\t10\t12\t14\t16\t18\t\n",
      "\n",
      "3\t6\t9\t12\t15\t18\t21\t24\t27\t\n",
      "\n",
      "4\t8\t12\t16\t20\t24\t28\t32\t36\t\n",
      "\n",
      "5\t10\t15\t20\t25\t30\t35\t40\t45\t\n",
      "\n",
      "6\t12\t18\t24\t30\t36\t42\t48\t54\t\n",
      "\n",
      "7\t14\t21\t28\t35\t42\t49\t56\t63\t\n",
      "\n",
      "8\t16\t24\t32\t40\t48\t56\t64\t72\t\n",
      "\n",
      "9\t18\t27\t36\t45\t54\t63\t72\t81\t\n",
      "\n"
     ]
    }
   ],
   "source": [
    "for i in range(1,10):\n",
    "    for j in range(1,10):\n",
    "        print(i*j ,end=\"\\t\")\n",
    "    print(\"\\n\")"
   ]
  },
  {
   "cell_type": "code",
   "execution_count": 70,
   "id": "33e75e46",
   "metadata": {},
   "outputs": [
    {
     "name": "stdout",
     "output_type": "stream",
     "text": [
      "[ 1 단 ]\n",
      "1 X 1 = 1    1 X 2 = 2    1 X 3 = 3    1 X 4 = 4    1 X 5 = 5    1 X 6 = 6    1 X 7 = 7    1 X 8 = 8    1 X 9 = 9    \n",
      "\n",
      "[ 2 단 ]\n",
      "2 X 1 = 2    2 X 2 = 4    2 X 3 = 6    2 X 4 = 8    2 X 5 = 10    2 X 6 = 12    2 X 7 = 14    2 X 8 = 16    2 X 9 = 18    \n",
      "\n",
      "[ 3 단 ]\n",
      "3 X 1 = 3    3 X 2 = 6    3 X 3 = 9    3 X 4 = 12    3 X 5 = 15    3 X 6 = 18    3 X 7 = 21    3 X 8 = 24    3 X 9 = 27    \n",
      "\n",
      "[ 4 단 ]\n",
      "4 X 1 = 4    4 X 2 = 8    4 X 3 = 12    4 X 4 = 16    4 X 5 = 20    4 X 6 = 24    4 X 7 = 28    4 X 8 = 32    4 X 9 = 36    \n",
      "\n",
      "[ 5 단 ]\n",
      "5 X 1 = 5    5 X 2 = 10    5 X 3 = 15    5 X 4 = 20    5 X 5 = 25    5 X 6 = 30    5 X 7 = 35    5 X 8 = 40    5 X 9 = 45    \n",
      "\n",
      "[ 6 단 ]\n",
      "6 X 1 = 6    6 X 2 = 12    6 X 3 = 18    6 X 4 = 24    6 X 5 = 30    6 X 6 = 36    6 X 7 = 42    6 X 8 = 48    6 X 9 = 54    \n",
      "\n",
      "[ 7 단 ]\n",
      "7 X 1 = 7    7 X 2 = 14    7 X 3 = 21    7 X 4 = 28    7 X 5 = 35    7 X 6 = 42    7 X 7 = 49    7 X 8 = 56    7 X 9 = 63    \n",
      "\n",
      "[ 8 단 ]\n",
      "8 X 1 = 8    8 X 2 = 16    8 X 3 = 24    8 X 4 = 32    8 X 5 = 40    8 X 6 = 48    8 X 7 = 56    8 X 8 = 64    8 X 9 = 72    \n",
      "\n",
      "[ 9 단 ]\n",
      "9 X 1 = 9    9 X 2 = 18    9 X 3 = 27    9 X 4 = 36    9 X 5 = 45    9 X 6 = 54    9 X 7 = 63    9 X 8 = 72    9 X 9 = 81    \n",
      "\n"
     ]
    }
   ],
   "source": [
    "for i in range(1,10):\n",
    "    print(\"[\",i,\"단\",\"]\")\n",
    "    for j in range(1,10):\n",
    "        print(i,\"X\",j ,\"=\",i*j, end=\"    \")\n",
    "    print(\"\\n\")"
   ]
  },
  {
   "cell_type": "code",
   "execution_count": 75,
   "id": "7639a6fe",
   "metadata": {},
   "outputs": [
    {
     "name": "stdout",
     "output_type": "stream",
     "text": [
      "* \n",
      "* * \n",
      "* * * \n",
      "* * * * \n",
      "* * * * * \n",
      "* * * * * * \n",
      "* * * * * * * \n",
      "* * * * * * * * \n",
      "* * * * * * * * * \n"
     ]
    }
   ],
   "source": [
    "for i in range(1,10):\n",
    "    for j in range(1, i+1):\n",
    "        print(\"*\", end=\" \")\n",
    "    print()"
   ]
  },
  {
   "cell_type": "code",
   "execution_count": 76,
   "id": "f9accea2",
   "metadata": {},
   "outputs": [
    {
     "name": "stdout",
     "output_type": "stream",
     "text": [
      "0\n",
      "1\n",
      "2\n"
     ]
    }
   ],
   "source": [
    "i=0;\n",
    "while(i<3):\n",
    "    print(i)\n",
    "    i = i+1"
   ]
  },
  {
   "cell_type": "code",
   "execution_count": 77,
   "id": "7ad09d23",
   "metadata": {},
   "outputs": [
    {
     "name": "stdout",
     "output_type": "stream",
     "text": [
      "3 의 제곱 9\n"
     ]
    }
   ],
   "source": [
    "def double(num):\n",
    "    print(num, \"의 제곱\",num * num)\n",
    "double(3)"
   ]
  },
  {
   "cell_type": "code",
   "execution_count": 78,
   "id": "fd7c699f",
   "metadata": {},
   "outputs": [
    {
     "name": "stdout",
     "output_type": "stream",
     "text": [
      "hello\n"
     ]
    }
   ],
   "source": [
    "def hello():\n",
    "    print(\"hello\")\n",
    "hello()"
   ]
  },
  {
   "cell_type": "code",
   "execution_count": 81,
   "id": "4cc2e4b7",
   "metadata": {},
   "outputs": [
    {
     "name": "stdout",
     "output_type": "stream",
     "text": [
      "3의 제곱 : 9\n"
     ]
    }
   ],
   "source": [
    "def double(num):\n",
    "    return num * num\n",
    "result = double(3)\n",
    "print(\"%d의 제곱 : %d\" %(3,result))"
   ]
  },
  {
   "cell_type": "code",
   "execution_count": 82,
   "id": "61fbfd55",
   "metadata": {},
   "outputs": [
    {
     "name": "stdout",
     "output_type": "stream",
     "text": [
      "49\n"
     ]
    }
   ],
   "source": [
    "def double(n):\n",
    "    square = n * n\n",
    "    return square\n",
    "print(double(7))"
   ]
  },
  {
   "cell_type": "code",
   "execution_count": 83,
   "id": "caa6e68e",
   "metadata": {},
   "outputs": [
    {
     "name": "stdout",
     "output_type": "stream",
     "text": [
      "8\n"
     ]
    }
   ],
   "source": [
    "def add(a,b):\n",
    "    sum = a+b\n",
    "    return sum\n",
    "print(add(3,5))"
   ]
  },
  {
   "cell_type": "code",
   "execution_count": 85,
   "id": "c6e13d71",
   "metadata": {},
   "outputs": [
    {
     "name": "stdout",
     "output_type": "stream",
     "text": [
      "(8, -2)\n"
     ]
    }
   ],
   "source": [
    "def add_sub(a,b):\n",
    "    sum = a + b\n",
    "    diff = a - b\n",
    "    return sum, diff\n",
    "print(add_sub(3,5))"
   ]
  },
  {
   "cell_type": "code",
   "execution_count": 87,
   "id": "e2124ca7",
   "metadata": {},
   "outputs": [
    {
     "name": "stdout",
     "output_type": "stream",
     "text": [
      "a= 3 b= 5\n"
     ]
    }
   ],
   "source": [
    "def swap(a,b):\n",
    "    temp = a\n",
    "    a = b\n",
    "    b = temp\n",
    "a=3\n",
    "b=5\n",
    "swap(a,b)\n",
    "print(\"a=\",a,\"b=\",b)"
   ]
  },
  {
   "cell_type": "code",
   "execution_count": 93,
   "id": "776b9606",
   "metadata": {},
   "outputs": [
    {
     "name": "stdout",
     "output_type": "stream",
     "text": [
      "a= 5 b= 3\n"
     ]
    }
   ],
   "source": [
    "def swap(a,b):\n",
    "    return b,a\n",
    "a=3\n",
    "b=5\n",
    "a,b = swap(a,b)\n",
    "print(\"a=\",a,\"b=\",b)"
   ]
  },
  {
   "cell_type": "code",
   "execution_count": 95,
   "id": "170e2baa",
   "metadata": {},
   "outputs": [
    {
     "name": "stdout",
     "output_type": "stream",
     "text": [
      "55\n"
     ]
    }
   ],
   "source": [
    "def sum(n):\n",
    "    sum = 0\n",
    "    for i in range(1, n+1):\n",
    "        sum += i\n",
    "    return sum\n",
    "print(sum(10))"
   ]
  },
  {
   "cell_type": "code",
   "execution_count": 101,
   "id": "2de21889",
   "metadata": {},
   "outputs": [
    {
     "name": "stdout",
     "output_type": "stream",
     "text": [
      "5! =  120\n"
     ]
    }
   ],
   "source": [
    "def factorial(n):\n",
    "    result = 1\n",
    "    for i in range(n):\n",
    "        result *= i+1\n",
    "    return result\n",
    "print(\"5! = \", factorial(5))"
   ]
  },
  {
   "cell_type": "code",
   "execution_count": 103,
   "id": "dc2cf6de",
   "metadata": {},
   "outputs": [
    {
     "name": "stdout",
     "output_type": "stream",
     "text": [
      "5!= 120\n"
     ]
    }
   ],
   "source": [
    "import math\n",
    "print(\"5!=\", math.factorial(5))"
   ]
  },
  {
   "cell_type": "code",
   "execution_count": 1,
   "id": "12444369",
   "metadata": {},
   "outputs": [],
   "source": [
    "import turtle\n",
    "turtle.shape(\"turtle\")\n",
    "turtle.forward(100)"
   ]
  },
  {
   "cell_type": "code",
   "execution_count": null,
   "id": "452d548c",
   "metadata": {},
   "outputs": [],
   "source": []
  },
  {
   "cell_type": "code",
   "execution_count": null,
   "id": "b43fe147",
   "metadata": {},
   "outputs": [],
   "source": []
  }
 ],
 "metadata": {
  "kernelspec": {
   "display_name": "Python 3 (ipykernel)",
   "language": "python",
   "name": "python3"
  },
  "language_info": {
   "codemirror_mode": {
    "name": "ipython",
    "version": 3
   },
   "file_extension": ".py",
   "mimetype": "text/x-python",
   "name": "python",
   "nbconvert_exporter": "python",
   "pygments_lexer": "ipython3",
   "version": "3.9.12"
  }
 },
 "nbformat": 4,
 "nbformat_minor": 5
}
