{
 "cells": [
  {
   "cell_type": "code",
   "execution_count": 1,
   "metadata": {},
   "outputs": [
    {
     "name": "stdout",
     "output_type": "stream",
     "text": [
      "x(함수): 5\n",
      "x(메인): 3\n"
     ]
    }
   ],
   "source": [
    "def func(x):\n",
    "    x = 5\n",
    "    print('x(함수):', x)\n",
    "x = 3\n",
    "func(x)\n",
    "print('x(메인):', x)"
   ]
  },
  {
   "cell_type": "code",
   "execution_count": 2,
   "metadata": {},
   "outputs": [
    {
     "name": "stdout",
     "output_type": "stream",
     "text": [
      "a= 3 b= 5\n",
      "1: id(a) 140715893536608 id(b) 140715893536672\n",
      "2: id(aa) 140715893536608 id(bb) 140715893536672\n",
      "3: id(a) 140715893536672 id(b) 140715893536608\n",
      "a= 5 b= 3\n"
     ]
    }
   ],
   "source": [
    "def swap(aa, bb):\n",
    "    print('2: id(aa)', id(aa), 'id(bb)', id(bb))\n",
    "    return bb, aa\n",
    "a=3\n",
    "b=5\n",
    "print('a=', a, 'b=', b)\n",
    "print('1: id(a)', id(a), 'id(b)', id(b))\n",
    "a, b = swap(a, b)\n",
    "print('3: id(a)', id(a), 'id(b)', id(b))\n",
    "print('a=', a, 'b=', b)"
   ]
  }
 ],
 "metadata": {
  "kernelspec": {
   "display_name": "Python 3",
   "language": "python",
   "name": "python3"
  },
  "language_info": {
   "codemirror_mode": {
    "name": "ipython",
    "version": 3
   },
   "file_extension": ".py",
   "mimetype": "text/x-python",
   "name": "python",
   "nbconvert_exporter": "python",
   "pygments_lexer": "ipython3",
   "version": "3.8.3"
  }
 },
 "nbformat": 4,
 "nbformat_minor": 4
}
