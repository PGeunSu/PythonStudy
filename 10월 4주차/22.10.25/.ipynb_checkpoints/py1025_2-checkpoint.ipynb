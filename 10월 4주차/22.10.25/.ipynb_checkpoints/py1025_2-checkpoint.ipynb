{
 "cells": [
  {
   "cell_type": "code",
   "execution_count": 1,
   "id": "bb41a8a1",
   "metadata": {},
   "outputs": [
    {
     "name": "stdout",
     "output_type": "stream",
     "text": [
      "{'지훈': 1234, '수민': 2345}\n"
     ]
    }
   ],
   "source": [
    "student = {}\n",
    "student[\"지훈\"]=1234\n",
    "student[\"수민\"] = 2345\n",
    "print(student) #key와 value로 쌍으로 이루어짐"
   ]
  },
  {
   "cell_type": "code",
   "execution_count": 2,
   "id": "2985d8f1",
   "metadata": {},
   "outputs": [
    {
     "name": "stdout",
     "output_type": "stream",
     "text": [
      "dict_keys(['지훈', '수민'])\n",
      "dict_values([1234, 2345])\n",
      "dict_items([('지훈', 1234), ('수민', 2345)])\n"
     ]
    }
   ],
   "source": [
    "print(student.keys())\n",
    "print(student.values())\n",
    "print(student.items())#사전에 있는 모든 값을 반환"
   ]
  },
  {
   "cell_type": "code",
   "execution_count": 6,
   "id": "7affc345",
   "metadata": {},
   "outputs": [
    {
     "name": "stdout",
     "output_type": "stream",
     "text": [
      "None\n",
      "None\n"
     ]
    }
   ],
   "source": [
    "print(student.get(\"지훈\"))\n",
    "print(student.get(\"수민\"))"
   ]
  },
  {
   "cell_type": "code",
   "execution_count": 4,
   "id": "83b0af64",
   "metadata": {},
   "outputs": [
    {
     "name": "stdout",
     "output_type": "stream",
     "text": [
      "{'현준': 1234, '민지': 2345}\n",
      "{'현준': 1234, '민지': 2345}\n",
      "{'현준': 1234, '민지': 2345}\n"
     ]
    }
   ],
   "source": [
    "student = dict([['현준', 1234], ['민지', 2345]])\n",
    "print(student)\n",
    "student = dict([('현준', 1234), ('민지', 2345)])\n",
    "print(student)\n",
    "student = dict((('현준', 1234), ('민지', 2345)))\n",
    "print(student)"
   ]
  },
  {
   "cell_type": "code",
   "execution_count": 15,
   "id": "7798796b",
   "metadata": {},
   "outputs": [
    {
     "name": "stdout",
     "output_type": "stream",
     "text": [
      "ㅎㅇㅎㅇ\n"
     ]
    }
   ],
   "source": [
    "f = open(\"data.txt\",\"r\" ,encoding=\"utf-8\")\n",
    "data = f.read()\n",
    "print(data)\n",
    "f.close()"
   ]
  },
  {
   "cell_type": "code",
   "execution_count": 19,
   "id": "addc9b6b",
   "metadata": {},
   "outputs": [],
   "source": [
    "import json\n",
    "a = [1,2,3,{'4':5,'6':7}]"
   ]
  },
  {
   "cell_type": "code",
   "execution_count": 20,
   "id": "5d5a9752",
   "metadata": {},
   "outputs": [
    {
     "name": "stdout",
     "output_type": "stream",
     "text": [
      "[1, 2, 3, {\"4\": 5, \"6\": 7}]\n"
     ]
    }
   ],
   "source": [
    "b = json.dumps(a)\n",
    "print(b) #파이썬 데이터가 -> json 변환"
   ]
  },
  {
   "cell_type": "code",
   "execution_count": 21,
   "id": "0f15a951",
   "metadata": {},
   "outputs": [
    {
     "name": "stdout",
     "output_type": "stream",
     "text": [
      "[1, 2, 3, {'4': 5, '6': 7}]\n"
     ]
    }
   ],
   "source": [
    "c = json.loads(b)\n",
    "print(c) #loads : json -> python 변환"
   ]
  },
  {
   "cell_type": "code",
   "execution_count": 22,
   "id": "d429cf24",
   "metadata": {},
   "outputs": [],
   "source": [
    "c = \"\"\"\n",
    "        <div class=\"select_div\">\n",
    "            <span data-i18n=\"footer.relationSites\">연관사이트</span>\n",
    "            <ul>\n",
    "\n",
    "\n",
    "            </ul>\n",
    "        </div>\n",
    "        <ul class=\"list_sns\">\n",
    "            <li><a href=\"https://www.facebook.com/ekoreatech\" target=\"_blank\"><img src=\"/res/lms/img/common/btn_footer_sns1.png\" alt=\"페이스북\"></a></li>\n",
    "            <li><a hre|f=\"https://blog.naver.com/e-koreatech\" target=\"_blank\"><img src=\"/res/lms/img/common/btn_footer_sns2.png\" alt=\"블로그\"></a></li>\n",
    "            <li><a href=\"https://www.youtube.com/user/koreatecholei\" target=\"_blank\"><img src=\"/res/lms/img/common/btn_footer_sns3.png\" alt=\"유트브\"></a></li>\n",
    "        </ul>\n",
    "\"\"\""
   ]
  },
  {
   "cell_type": "code",
   "execution_count": 23,
   "id": "503cafa7",
   "metadata": {},
   "outputs": [
    {
     "name": "stdout",
     "output_type": "stream",
     "text": [
      "169\n"
     ]
    }
   ],
   "source": [
    "print(c.find(\"list_sns\"))"
   ]
  },
  {
   "cell_type": "code",
   "execution_count": 24,
   "id": "dbc3adf2",
   "metadata": {},
   "outputs": [
    {
     "name": "stdout",
     "output_type": "stream",
     "text": [
      "list_sns\">\n",
      "            <li><a href=\"https://www.facebook.com/ekoreatech\" target=\"_blank\"><img src=\"/res/lms/img/common/btn_footer_sns1.png\" alt=\"페이스북\"></a></li>\n",
      "            <li><a hre|f=\"https://blog.naver.com/e-koreatech\" target=\"_blank\"><img src=\"/res/lms/img/common/btn_footer_sns2.png\" alt=\"블로그\"></a></li>\n",
      "            <li><a href=\"https://www.youtube.com/user/koreatecholei\" target=\"_blank\"><img src=\"/res/lms/img/common/btn_footer_sns3.png\" alt=\"유트브\"></a></li>\n",
      "        </ul>\n",
      "\n"
     ]
    }
   ],
   "source": [
    "c = c[169:]\n",
    "print(c)"
   ]
  },
  {
   "cell_type": "code",
   "execution_count": 25,
   "id": "431f8d49",
   "metadata": {},
   "outputs": [
    {
     "name": "stdout",
     "output_type": "stream",
     "text": [
      "['list_sns\">\\n            <li><a href=\"https://www.facebook.com/ekoreatech\" target=\"_blank\"><img src=\"/res/lms/img/common/btn_footer_sns1.png\" alt=\"페이스북\"></a>', '\\n            <li><a hre|f=\"https://blog.naver.com/e-koreatech\" target=\"_blank\"><img src=\"/res/lms/img/common/btn_footer_sns2.png\" alt=\"블로그\"></a>', '\\n            <li><a href=\"https://www.youtube.com/user/koreatecholei\" target=\"_blank\"><img src=\"/res/lms/img/common/btn_footer_sns3.png\" alt=\"유트브\"></a>', '\\n        </ul>\\n']\n"
     ]
    }
   ],
   "source": [
    "c = c.split('</li>')\n",
    "print(c)"
   ]
  },
  {
   "cell_type": "code",
   "execution_count": 26,
   "id": "c9e96e81",
   "metadata": {},
   "outputs": [
    {
     "name": "stdout",
     "output_type": "stream",
     "text": [
      "list_sns\">\n",
      "            <li><a href=\"https://www.facebook.com/ekoreatech\" target=\"_blank\"><img src=\"/res/lms/img/common/btn_footer_sns1.png\" alt=\"페이스북\"></a>\n"
     ]
    }
   ],
   "source": [
    "print(c[0])"
   ]
  },
  {
   "cell_type": "code",
   "execution_count": 27,
   "id": "4d349f55",
   "metadata": {},
   "outputs": [
    {
     "name": "stdout",
     "output_type": "stream",
     "text": [
      "list_sns\">\n",
      "            <li><a href=\"https://www.facebook.com/ekoreatech\n"
     ]
    }
   ],
   "source": [
    "url = c[0].split('\" target')[0]\n",
    "print(url)"
   ]
  },
  {
   "cell_type": "code",
   "execution_count": 28,
   "id": "7aac22ac",
   "metadata": {},
   "outputs": [
    {
     "name": "stdout",
     "output_type": "stream",
     "text": [
      "https://www.facebook.com/ekoreatech\n"
     ]
    }
   ],
   "source": [
    "url = url.split('href=\"')[1]\n",
    "print(url)"
   ]
  },
  {
   "cell_type": "code",
   "execution_count": 29,
   "id": "90bb8c74",
   "metadata": {},
   "outputs": [
    {
     "name": "stdout",
     "output_type": "stream",
     "text": [
      "list_sns\">\n",
      "            <li><a href=\"https://www.facebook.com/ekoreatech\" target=\"_blank\"><img src=\"/res/lms/img/common/btn_footer_sns1.png\" alt=\"페이스북\"></a>\n"
     ]
    }
   ],
   "source": [
    "print(c[0])"
   ]
  },
  {
   "cell_type": "code",
   "execution_count": 30,
   "id": "d6be87c8",
   "metadata": {},
   "outputs": [
    {
     "name": "stdout",
     "output_type": "stream",
     "text": [
      "list_sns\">\n",
      "            <li><a href=\"https://www.facebook.com/ekoreatech\" target=\"_blank\"><img src=\"/res/lms/img/common/btn_footer_sns1.png\" alt=\"페이스북\n"
     ]
    }
   ],
   "source": [
    "result = c[0].split('\"></a')[0]\n",
    "print(result)"
   ]
  },
  {
   "cell_type": "code",
   "execution_count": 31,
   "id": "0e4d7f79",
   "metadata": {},
   "outputs": [
    {
     "name": "stdout",
     "output_type": "stream",
     "text": [
      "페이스북\n"
     ]
    }
   ],
   "source": [
    "result = result.split('alt=\"')[1]\n",
    "print(result)"
   ]
  },
  {
   "cell_type": "code",
   "execution_count": 37,
   "id": "b8f35c4a",
   "metadata": {
    "scrolled": true
   },
   "outputs": [
    {
     "name": "stdout",
     "output_type": "stream",
     "text": [
      "https://www.facebook.com/ekoreatech\n",
      "페이스북\n"
     ]
    },
    {
     "ename": "IndexError",
     "evalue": "list index out of range",
     "output_type": "error",
     "traceback": [
      "\u001b[1;31m---------------------------------------------------------------------------\u001b[0m",
      "\u001b[1;31mIndexError\u001b[0m                                Traceback (most recent call last)",
      "Input \u001b[1;32mIn [37]\u001b[0m, in \u001b[0;36m<cell line: 1>\u001b[1;34m()\u001b[0m\n\u001b[0;32m      1\u001b[0m \u001b[38;5;28;01mfor\u001b[39;00m i \u001b[38;5;129;01min\u001b[39;00m \u001b[38;5;28mrange\u001b[39m(\u001b[38;5;28mlen\u001b[39m(c)\u001b[38;5;241m-\u001b[39m\u001b[38;5;241m1\u001b[39m):\n\u001b[0;32m      2\u001b[0m     url \u001b[38;5;241m=\u001b[39m c[i]\u001b[38;5;241m.\u001b[39msplit(\u001b[38;5;124m'\u001b[39m\u001b[38;5;124m\"\u001b[39m\u001b[38;5;124m target\u001b[39m\u001b[38;5;124m'\u001b[39m)[\u001b[38;5;241m0\u001b[39m]\n\u001b[1;32m----> 3\u001b[0m     url\u001b[38;5;241m=\u001b[39m \u001b[43murl\u001b[49m\u001b[38;5;241;43m.\u001b[39;49m\u001b[43msplit\u001b[49m\u001b[43m(\u001b[49m\u001b[38;5;124;43m'\u001b[39;49m\u001b[38;5;124;43mhref=\u001b[39;49m\u001b[38;5;124;43m\"\u001b[39;49m\u001b[38;5;124;43m'\u001b[39;49m\u001b[43m)\u001b[49m\u001b[43m[\u001b[49m\u001b[38;5;241;43m1\u001b[39;49m\u001b[43m]\u001b[49m\n\u001b[0;32m      4\u001b[0m     \u001b[38;5;28mprint\u001b[39m(url)\n\u001b[0;32m      5\u001b[0m     name \u001b[38;5;241m=\u001b[39m c[i]\u001b[38;5;241m.\u001b[39msplit(\u001b[38;5;124m'\u001b[39m\u001b[38;5;124malt=\u001b[39m\u001b[38;5;124m\"\u001b[39m\u001b[38;5;124m'\u001b[39m)[\u001b[38;5;241m1\u001b[39m]\n",
      "\u001b[1;31mIndexError\u001b[0m: list index out of range"
     ]
    }
   ],
   "source": [
    "for i in range(len(c)-1):\n",
    "    url = c[i].split('\" target')[0]\n",
    "    url = url.split('href=\"')[1]\n",
    "    print(url)\n",
    "    name = c[i].split('alt=\"')[1]\n",
    "    name = name[:name.find('\"')]\n",
    "    print(name)"
   ]
  },
  {
   "cell_type": "code",
   "execution_count": null,
   "id": "cb2fb50b",
   "metadata": {},
   "outputs": [],
   "source": []
  }
 ],
 "metadata": {
  "kernelspec": {
   "display_name": "Python 3 (ipykernel)",
   "language": "python",
   "name": "python3"
  },
  "language_info": {
   "codemirror_mode": {
    "name": "ipython",
    "version": 3
   },
   "file_extension": ".py",
   "mimetype": "text/x-python",
   "name": "python",
   "nbconvert_exporter": "python",
   "pygments_lexer": "ipython3",
   "version": "3.9.12"
  }
 },
 "nbformat": 4,
 "nbformat_minor": 5
}
