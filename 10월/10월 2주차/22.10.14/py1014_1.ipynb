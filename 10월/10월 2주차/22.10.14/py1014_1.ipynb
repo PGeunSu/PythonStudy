{
 "cells": [
  {
   "cell_type": "code",
   "execution_count": 1,
   "id": "e961e6b5",
   "metadata": {},
   "outputs": [
    {
     "name": "stdout",
     "output_type": "stream",
     "text": [
      "['사과', '키위', '오렌지', '포도']\n"
     ]
    }
   ],
   "source": [
    "fruits = [\"사과\",\"오렌지\",\"포도\"] # insert 두개의 인자\n",
    "fruits.insert(1, \"키위\") # 인덱스[1] 전에 \"키위\"라는 항목값 삽입\n",
    "print(fruits)"
   ]
  },
  {
   "cell_type": "code",
   "execution_count": 2,
   "id": "c496c18c",
   "metadata": {},
   "outputs": [
    {
     "name": "stdout",
     "output_type": "stream",
     "text": [
      "['사과', '키위', '오렌지', '포도']\n"
     ]
    }
   ],
   "source": [
    "fruits = [\"사과\",\"오렌지\",\"포도\"]\n",
    "fruits.insert(-2,\"키위\") #index[-2] = 오렌지 \n",
    "print(fruits)"
   ]
  },
  {
   "cell_type": "code",
   "execution_count": 6,
   "id": "dd6b21ce",
   "metadata": {},
   "outputs": [
    {
     "name": "stdout",
     "output_type": "stream",
     "text": [
      "[4, 8, 2]\n"
     ]
    }
   ],
   "source": [
    "mylist= [3,5,4,9,1,8,2,1]\n",
    "newlist = [i for i in mylist if(i%2) == 0]\n",
    "print(newlist)"
   ]
  },
  {
   "cell_type": "code",
   "execution_count": 7,
   "id": "31ee401f",
   "metadata": {},
   "outputs": [
    {
     "name": "stdout",
     "output_type": "stream",
     "text": [
      "[31, 53, 41, 19, 21]\n"
     ]
    }
   ],
   "source": [
    "# people 원소중 성인(19세 이상)만 따로 추출해서 audult로 저장\n",
    "people =[31,53,41,19,15,18,21,13]\n",
    "adult = [i for i in people if i>=19 ]\n",
    "print(adult)"
   ]
  },
  {
   "cell_type": "code",
   "execution_count": 8,
   "id": "cc2626db",
   "metadata": {},
   "outputs": [
    {
     "name": "stdout",
     "output_type": "stream",
     "text": [
      "[0, 2, 3, 4, 5]\n"
     ]
    }
   ],
   "source": [
    "nums = [0,1,2,3,4,5]\n",
    "del nums[1]\n",
    "print(nums)"
   ]
  },
  {
   "cell_type": "code",
   "execution_count": 9,
   "id": "e8a64995",
   "metadata": {},
   "outputs": [
    {
     "name": "stdout",
     "output_type": "stream",
     "text": [
      "[0, 5]\n"
     ]
    }
   ],
   "source": [
    "nums = [0,1,2,3,4,5]\n",
    "del nums[1:5] # 인덱스[1]`~ [5] 전까지 삭제\n",
    "print(nums)"
   ]
  },
  {
   "cell_type": "code",
   "execution_count": 10,
   "id": "0df3d840",
   "metadata": {},
   "outputs": [
    {
     "name": "stdout",
     "output_type": "stream",
     "text": [
      "[1, 3, 5]\n"
     ]
    }
   ],
   "source": [
    "nums = [1,3,5,7,9]\n",
    "nums.pop() # 인덱스 끝번호 = 9 삭제\n",
    "nums.pop() # 9가 삭제되어 그 다음 끝번호인 7 삭제\n",
    "print(nums)"
   ]
  },
  {
   "cell_type": "code",
   "execution_count": 11,
   "id": "e50b5ef7",
   "metadata": {},
   "outputs": [
    {
     "name": "stdout",
     "output_type": "stream",
     "text": [
      "[1, 3, 7, 9]\n"
     ]
    }
   ],
   "source": [
    "nums = [1,3,5,7,9]\n",
    "nums.pop(2)\n",
    "print(nums)"
   ]
  },
  {
   "cell_type": "code",
   "execution_count": 15,
   "id": "b6a3704e",
   "metadata": {},
   "outputs": [
    {
     "name": "stdout",
     "output_type": "stream",
     "text": [
      "[0, 3, 4, 5]\n"
     ]
    }
   ],
   "source": [
    "nums = [0,1,2,3,4,5]\n",
    "nums[1:3] = [] #인덱스 1번부터 3번 전까지 빈 배열로 만들기 때문에 인덱스[1,2] 삭제\n",
    "print(nums)"
   ]
  },
  {
   "cell_type": "code",
   "execution_count": 16,
   "id": "e11cea4d",
   "metadata": {},
   "outputs": [
    {
     "name": "stdout",
     "output_type": "stream",
     "text": [
      "True\n"
     ]
    }
   ],
   "source": [
    "#존재여부\n",
    "word = \"orange\"\n",
    "print(\"r\" in word) # word라는 문자열에 \"r\" 이 포함되어있으면 ture 반환, 아닐시 false 반환 "
   ]
  },
  {
   "cell_type": "code",
   "execution_count": 18,
   "id": "b69347d5",
   "metadata": {},
   "outputs": [
    {
     "name": "stdout",
     "output_type": "stream",
     "text": [
      "False\n"
     ]
    }
   ],
   "source": [
    "fruits = [\"사과\",\"오렌지\",\"포도\"]\n",
    "print(\"포도\" not in fruits) #배열(List) 사용 가능 not in = 포함되지 않냐? (포함되면 false)"
   ]
  },
  {
   "cell_type": "code",
   "execution_count": 19,
   "id": "a64707a2",
   "metadata": {},
   "outputs": [
    {
     "name": "stdout",
     "output_type": "stream",
     "text": [
      "[1, 2, 3, 1, 2, 3]\n"
     ]
    }
   ],
   "source": [
    "#원소의 반복\n",
    "a = [1,2,3]\n",
    "b = a * 2 #원소를 2번 반복하여 출력\n",
    "print(b)"
   ]
  },
  {
   "cell_type": "code",
   "execution_count": 23,
   "id": "97afb346",
   "metadata": {},
   "outputs": [
    {
     "name": "stdout",
     "output_type": "stream",
     "text": [
      "2 4 6 "
     ]
    }
   ],
   "source": [
    "a = [1,2,3]\n",
    "for i in a:\n",
    "    print(i*2 ,end =\" \")"
   ]
  },
  {
   "cell_type": "code",
   "execution_count": 24,
   "id": "29eae08b",
   "metadata": {},
   "outputs": [
    {
     "name": "stdout",
     "output_type": "stream",
     "text": [
      "3\n"
     ]
    }
   ],
   "source": [
    "fruits = [\"사과\",\"오렌지\",\"포도\"]\n",
    "print(len(fruits)) #len = length 원소의 개수 조사"
   ]
  },
  {
   "cell_type": "code",
   "execution_count": 26,
   "id": "1508633d",
   "metadata": {},
   "outputs": [
    {
     "name": "stdout",
     "output_type": "stream",
     "text": [
      "3\n"
     ]
    }
   ],
   "source": [
    "nums = [5,7,1,3,5,7,1,3,3,5,7,9]\n",
    "print(nums.count(5)) # 5라는 값의 개수를 측정"
   ]
  },
  {
   "cell_type": "code",
   "execution_count": 27,
   "id": "b3e49063",
   "metadata": {},
   "outputs": [
    {
     "name": "stdout",
     "output_type": "stream",
     "text": [
      "3\n"
     ]
    }
   ],
   "source": [
    "food = [\"귤\",\"감\",\"귤\",\"귤\",\"감\"]\n",
    "print(food.count(\"귤\"))"
   ]
  },
  {
   "cell_type": "code",
   "execution_count": 29,
   "id": "69360e92",
   "metadata": {},
   "outputs": [
    {
     "name": "stdout",
     "output_type": "stream",
     "text": [
      "2\n"
     ]
    }
   ],
   "source": [
    "#인덱스 번호 찾기 #array.index(x) : 배열에서 x 값이 처음 나오는 인덱스 번호를 반환\n",
    "nums = [1,2,3,4,5,3]\n",
    "print(nums.index(3)) #3은 인덱스[2,5]에 중복되어 위치해 있지만 첫 번째 인덱스만 반환"
   ]
  },
  {
   "cell_type": "code",
   "execution_count": 31,
   "id": "9c3fae6f",
   "metadata": {},
   "outputs": [
    {
     "name": "stdout",
     "output_type": "stream",
     "text": [
      "[1, 2, 3, 3, 5, 6, 7]\n"
     ]
    }
   ],
   "source": [
    "nums = [3,5,6,7,2,1,3]\n",
    "nums.sort() #정렬\n",
    "print(nums)"
   ]
  },
  {
   "cell_type": "code",
   "execution_count": 35,
   "id": "8ff937d5",
   "metadata": {},
   "outputs": [
    {
     "name": "stdout",
     "output_type": "stream",
     "text": [
      "[7, 6, 5, 3, 3, 2, 1]\n"
     ]
    }
   ],
   "source": [
    "nums = [3,5,6,7,2,1,3]\n",
    "nums.sort(reverse = True) #역순으로 정렬\n",
    "print(nums)"
   ]
  },
  {
   "cell_type": "code",
   "execution_count": 39,
   "id": "ee5ddbdf",
   "metadata": {},
   "outputs": [
    {
     "name": "stdout",
     "output_type": "stream",
     "text": [
      "['복숭아', '포도', '오렌지', '사과']\n"
     ]
    }
   ],
   "source": [
    "fruits = [\"사과\",\"오렌지\",\"포도\",\"복숭아\"]\n",
    "fruits.reverse()\n",
    "print(fruits)"
   ]
  },
  {
   "cell_type": "code",
   "execution_count": 42,
   "id": "7f3fec7a",
   "metadata": {},
   "outputs": [
    {
     "name": "stdout",
     "output_type": "stream",
     "text": [
      "['오렌지', 880]\n",
      "오렌지\n"
     ]
    }
   ],
   "source": [
    "fruitsdb = [[\"사과\",1020],[\"오렌지\",880],[\"포도\",3160]]\n",
    "print(fruitsdb[1]) #fruitsdb[1] 에 저장된 모든 내용을 출력\n",
    "print(fruitsdb[1][0]) #fruitsdb[1]에 저장된 내용 중 [0]번 인덱스의 내용만 출력"
   ]
  },
  {
   "cell_type": "code",
   "execution_count": 44,
   "id": "cc1473d7",
   "metadata": {},
   "outputs": [
    {
     "name": "stdout",
     "output_type": "stream",
     "text": [
      "[2, 20, 200]\n"
     ]
    }
   ],
   "source": [
    "record = [[1,2,3],[10,20,30],[100,200,300]]\n",
    "index = [i[1] for i in record] #2차원 리스트 record에 저장된 모든 리스트들의 1번 인덱스에 저장된 내용들만 모아 index에 저장\n",
    "print(index)"
   ]
  },
  {
   "cell_type": "code",
   "execution_count": 46,
   "id": "bdca0b67",
   "metadata": {},
   "outputs": [
    {
     "name": "stdout",
     "output_type": "stream",
     "text": [
      "[[1, 2], [6, 7]]\n"
     ]
    }
   ],
   "source": [
    "mylist = [[1,2],[3,4,5],[6,7]]\n",
    "newlist = [x for x in mylist if len(x) == 2] #mylist에서 원소 개수가 2인 것들만 추출 후 newlist에 저장\n",
    "print(newlist)"
   ]
  },
  {
   "cell_type": "code",
   "execution_count": 70,
   "id": "f8a183c4",
   "metadata": {},
   "outputs": [
    {
     "name": "stdout",
     "output_type": "stream",
     "text": [
      "[9, 9, 18, 19, 3, 17, 2, 18, 18, 32, 16, 23, 32, 29, 33, 12, 7, 27, 14, 17, 28, 1, 20, 27, 14, 29, 4, 13, 12, 21, 6, 28, 28, 3, 9, 15, 24, 15, 9, 13, 29, 20, 24, 22, 19, 9, 5, 14, 26, 28, 24, 30, 18, 8, 27, 8, 29, 7, 18, 6, 32, 5, 19, 17, 23, 13, 33, 5, 9, 20, 31, 31, 20, 16, 14, 12, 4, 15, 11, 1, 31, 15, 29, 31, 27, 3, 24, 26, 13, 17, 15, 20, 26, 30, 17, 25, 27, 12, 31, 12]\n",
      "존재하지 않는 값 : [10]\n"
     ]
    }
   ],
   "source": [
    "#1~33의 수를 무작위로 100번 추출하여 bigdata라는 배열 추가\n",
    "import random\n",
    "bigdata = []\n",
    "nodata = []\n",
    "for i in range(100):\n",
    "    bigdata.append(random.randint(1,33))\n",
    "print(bigdata)\n",
    "\n",
    "for i in range(1,33): #1~33의 존재여부 확인 후 삽입ㅂ\n",
    "    if i not in bigdata:\n",
    "        nodata.append(i)\n",
    "print(\"존재하지 않는 값 :\" , nodata)"
   ]
  },
  {
   "cell_type": "code",
   "execution_count": 73,
   "id": "de63e3dd",
   "metadata": {},
   "outputs": [
    {
     "name": "stdout",
     "output_type": "stream",
     "text": [
      "[33, 9, 30, 20, 5, 6, 26, 24, 20, 23, 26, 25, 14, 26, 16, 11, 31, 10, 2, 14, 14, 30, 17, 17, 22, 8, 16, 24, 10, 22, 33, 10, 5, 14, 6, 6, 12, 1, 24, 17, 6, 18, 29, 21, 26, 20, 20, 2, 20, 22, 4, 12, 7, 16, 25, 23, 18, 8, 20, 3, 23, 16, 31, 6, 20, 31, 5, 18, 8, 33, 6, 10, 11, 1, 7, 31, 7, 32, 21, 21, 24, 14, 29, 32, 15, 27, 3, 30, 3, 25, 9, 17, 28, 21, 27, 4, 29, 16, 4, 15]\n",
      "존재하지 않은 값 :  [13, 19]\n"
     ]
    }
   ],
   "source": [
    "import random\n",
    "bigdata = []\n",
    "for i in range(100):\n",
    "    bigdata.append(random.randint(1,33))\n",
    "print(bigdata)\n",
    "nodata = [i for i in range(1,33) if i not in bigdata]\n",
    "print(\"존재하지 않은 값 : \" ,nodata)"
   ]
  },
  {
   "cell_type": "code",
   "execution_count": 78,
   "id": "a03787bf",
   "metadata": {},
   "outputs": [
    {
     "name": "stdout",
     "output_type": "stream",
     "text": [
      "[1, 2, 3, 1, 2, 3]\n"
     ]
    }
   ],
   "source": [
    "def times2(a):\n",
    "    a = a * 2 \n",
    "    print(a)\n",
    "nums = [1,2,3]\n",
    "    times2(nums)"
   ]
  },
  {
   "cell_type": "code",
   "execution_count": 79,
   "id": "9e28ef13",
   "metadata": {},
   "outputs": [
    {
     "name": "stdout",
     "output_type": "stream",
     "text": [
      "[1, 2, 3, 1, 2, 3]\n"
     ]
    }
   ],
   "source": [
    "def times3(a):\n",
    "    for i in range(len(a)):\n",
    "        a[i] = a[i] * 2\n",
    "    print(a)\n",
    "nums = [1,2,3]\n",
    "times2(nums)"
   ]
  },
  {
   "cell_type": "code",
   "execution_count": 91,
   "id": "379358e0",
   "metadata": {},
   "outputs": [
    {
     "name": "stdout",
     "output_type": "stream",
     "text": [
      "과일명 :  사과 ( 1020 ) 원\n",
      "과일명 :  오렌지 ( 880 ) 원\n",
      "과일명 :  포도 ( 3160 ) 원\n"
     ]
    }
   ],
   "source": [
    "fruitdb = [[\"사과\",1020],[\"오렌지\",880],[\"포도\",3160]]\n",
    "for i in range(len(fruitdb)):\n",
    "    print(\"과일명 : \", fruitdb[i][0] ,\"(\", fruitdb[i][1],\") 원\" )"
   ]
  },
  {
   "cell_type": "code",
   "execution_count": 97,
   "id": "8f2e6dd5",
   "metadata": {},
   "outputs": [
    {
     "name": "stdout",
     "output_type": "stream",
     "text": [
      "1686.7\n"
     ]
    }
   ],
   "source": [
    "fruitdb = [[\"사과\",1020],[\"오렌지\",880],[\"포도\",3160]]\n",
    "sum = 0\n",
    "for i in range(len(fruitdb)):\n",
    "    sum = sum + fruitdb[i][1]\n",
    "avg = sum / len(fruitdb)\n",
    "print(\"%.1f\"% avg) # %.1f = 소수점 1자리수까지 출력"
   ]
  },
  {
   "cell_type": "code",
   "execution_count": 149,
   "id": "d4e7df8a",
   "metadata": {},
   "outputs": [
    {
     "name": "stdout",
     "output_type": "stream",
     "text": [
      "   로또 번호 :  [4, 5, 14, 15, 33, 43, 44]\n",
      "내 로또 번호 :  [3, 6, 7, 10, 17, 23, 35]\n"
     ]
    }
   ],
   "source": [
    "import random\n",
    "def makeLotto(a):\n",
    "    while len(a) < 7:\n",
    "        lottoNum = random.randint(1,45)\n",
    "        if lottoNum not in a:\n",
    "            a.append(lottoNum)\n",
    "win = []\n",
    "my = []\n",
    "makeLotto(win)\n",
    "makeLotto(my)\n",
    "\n",
    "win.sort()\n",
    "my.sort()\n",
    "print(\"   로또 번호 : \" , win)\n",
    "print(\"내 로또 번호 : \" , my)"
   ]
  },
  {
   "cell_type": "code",
   "execution_count": 147,
   "id": "683cac7d",
   "metadata": {
    "scrolled": true
   },
   "outputs": [
    {
     "name": "stdout",
     "output_type": "stream",
     "text": [
      "('사과', '오렌지', 1020, 880)\n"
     ]
    }
   ],
   "source": [
    "empty = () #빈 튜플을 생성 또는 empty = tuple()\n",
    "animals = (\"토끼\",\"사자\",\"원숭이\")\n",
    "fruits = \"사과\",\"오렌지\",1020,880,\n",
    "start = \"하나\" , \"둘\",\n",
    "print(fruits)"
   ]
  },
  {
   "cell_type": "code",
   "execution_count": 153,
   "id": "f9c6a8ae",
   "metadata": {},
   "outputs": [],
   "source": [
    "#튜플\n",
    "\n",
    "#초기화한 후 변경할 수 없는 배열\n",
    "#괄호(())로 묶인 형식으로 항목들은 ,(콤마)로 연결 #괄호 생략 가능\n",
    "#문자열, 숫자, 튜플, 배열(list) 를 포함 가능"
   ]
  },
  {
   "cell_type": "code",
   "execution_count": 152,
   "id": "add75d38",
   "metadata": {},
   "outputs": [
    {
     "name": "stdout",
     "output_type": "stream",
     "text": [
      "오렌지\n",
      "('오렌지', 1020)\n"
     ]
    }
   ],
   "source": [
    "print(fruits[1]) #인덱싱 기능\n",
    "print(fruits[1:3]) #슳라이싱 기능"
   ]
  },
  {
   "cell_type": "code",
   "execution_count": 156,
   "id": "381ceccb",
   "metadata": {},
   "outputs": [],
   "source": [
    "# fruits[1] = \"키위\" #error : 한 번 입력한 내용을 변경할 수 없음"
   ]
  },
  {
   "cell_type": "code",
   "execution_count": 157,
   "id": "8a3c383d",
   "metadata": {},
   "outputs": [
    {
     "name": "stdout",
     "output_type": "stream",
     "text": [
      "['사과', '키위']\n"
     ]
    }
   ],
   "source": [
    "fruits = ([\"포도\",\"망고\"],[\"사과\",\"키위\"]) #배열(list) 포함하는 튜플\n",
    "print(fruits[1])"
   ]
  },
  {
   "cell_type": "code",
   "execution_count": 159,
   "id": "52604db8",
   "metadata": {},
   "outputs": [
    {
     "name": "stdout",
     "output_type": "stream",
     "text": [
      "(['포도', '망고'], ['수박', '키위'])\n"
     ]
    }
   ],
   "source": [
    "fruits = ([\"포도\",\"망고\"],[\"사과\",\"키위\"])\n",
    "#newFruits =[\"수박\",\"참외\"] \n",
    "ㄴ#fruits[1] = newFruits #error : 튜플에 새로운 값 입력 X \n",
    "fruits[1][0] = \"수박\" #튜플 내부의 원소로 존재하는 배열(list)는 수정 가능\n",
    "print(fruits) "
   ]
  },
  {
   "cell_type": "code",
   "execution_count": 160,
   "id": "6780593d",
   "metadata": {},
   "outputs": [
    {
     "name": "stdout",
     "output_type": "stream",
     "text": [
      "packing :  (12.33, 23.34)\n",
      "c1 :  12.33\n",
      "c2 :  23.34\n"
     ]
    }
   ],
   "source": [
    "x = 12.33\n",
    "y = 23.34\n",
    "packing = (x,y) #packing\n",
    "type(packing)\n",
    "print(\"packing : \",packing)\n",
    "(c1,c2) = packing # unpacking\n",
    "print(\"c1 : \", c1)\n",
    "print(\"c2 : \",c2)"
   ]
  },
  {
   "cell_type": "code",
   "execution_count": null,
   "id": "de59c19e",
   "metadata": {},
   "outputs": [],
   "source": []
  }
 ],
 "metadata": {
  "kernelspec": {
   "display_name": "Python 3 (ipykernel)",
   "language": "python",
   "name": "python3"
  },
  "language_info": {
   "codemirror_mode": {
    "name": "ipython",
    "version": 3
   },
   "file_extension": ".py",
   "mimetype": "text/x-python",
   "name": "python",
   "nbconvert_exporter": "python",
   "pygments_lexer": "ipython3",
   "version": "3.9.12"
  }
 },
 "nbformat": 4,
 "nbformat_minor": 5
}
