{
 "cells": [
  {
   "cell_type": "code",
   "execution_count": 4,
   "id": "1e247f45",
   "metadata": {},
   "outputs": [
    {
     "name": "stdout",
     "output_type": "stream",
     "text": [
      "[1020, 870, 3160, 2650]\n",
      "['사과', '오렌지', '포도', '복숭아']\n"
     ]
    }
   ],
   "source": [
    "price = [1020, 870, 3160, 2650]\n",
    "fruits =[\"사과\",\"오렌지\",\"포도\",\"복숭아\"]\n",
    "print(price)\n",
    "print(fruits)"
   ]
  },
  {
   "cell_type": "code",
   "execution_count": 5,
   "id": "bb55aec9",
   "metadata": {},
   "outputs": [
    {
     "name": "stdout",
     "output_type": "stream",
     "text": [
      "870\n",
      "복숭아\n"
     ]
    }
   ],
   "source": [
    "price = [1020, 870, 3160, 2650]\n",
    "fruits =[\"사과\",\"오렌지\",\"포도\",\"복숭아\"]\n",
    "print(price[1])\n",
    "print(fruits[-1])"
   ]
  },
  {
   "cell_type": "code",
   "execution_count": 7,
   "id": "f1b4c9ea",
   "metadata": {},
   "outputs": [
    {
     "name": "stdout",
     "output_type": "stream",
     "text": [
      "['사과', 1020, '오렌지', 870, '복숭아', 2650]\n"
     ]
    }
   ],
   "source": [
    "fruits =[\"사과\",\"오렌지\",\"포도\",\"복숭아\"]\n",
    "fruitstag = [\"사과\",1020,\"오렌지\",870,\"복숭아\",2650]\n",
    "print(fruitstag) #정수, 문자, 실수형도 모두 한 곳에 입력가능"
   ]
  },
  {
   "cell_type": "code",
   "execution_count": 8,
   "id": "205f7162",
   "metadata": {},
   "outputs": [
    {
     "name": "stdout",
     "output_type": "stream",
     "text": [
      "a= [1, 5, 7] b= [1, 5, 7]\n"
     ]
    }
   ],
   "source": [
    "a = [3,5,7]\n",
    "b = a\n",
    "b[0] = b[0] - 2\n",
    "print(\"a=\", a, \"b=\", b)  #같은 객체를 두 개의 다른 변수들이 가리킴"
   ]
  },
  {
   "cell_type": "code",
   "execution_count": 11,
   "id": "e30133c9",
   "metadata": {},
   "outputs": [
    {
     "name": "stdout",
     "output_type": "stream",
     "text": [
      "[1020, 870]\n",
      "[1020, 3160]\n",
      "[870, 365]\n"
     ]
    }
   ],
   "source": [
    "price = [1020, 870, 3160, 365, 731]\n",
    "print(price[0:2]) #인덱스 0에서 2전까지 출력\n",
    "print(price[0:4:2]) #인덱스 0에서 4전까지 2의 간격으로 출력\n",
    "print(price[1::2]) # 인덱스 1에서 2의 간격으로 출력"
   ]
  },
  {
   "cell_type": "code",
   "execution_count": 13,
   "id": "78e6e46d",
   "metadata": {},
   "outputs": [
    {
     "name": "stdout",
     "output_type": "stream",
     "text": [
      "['오렌지', '오렌지', '오렌지']\n"
     ]
    }
   ],
   "source": [
    "price = [\"사과\",\"오렌지\",\"포도\",\"오렌지\",\"복숭아\",\"오렌지\"]\n",
    "print(price[1::2])"
   ]
  },
  {
   "cell_type": "code",
   "execution_count": 17,
   "id": "ac70ac1c",
   "metadata": {},
   "outputs": [
    {
     "name": "stdout",
     "output_type": "stream",
     "text": [
      "<class 'list'>\n",
      "Packing : [12.23, 23.34]\n",
      "Unpacking : \n",
      "c1 :  12.23\n",
      "c2 :  23.34\n"
     ]
    }
   ],
   "source": [
    "x = 12.23\n",
    "y = 23.34\n",
    "packing =[x,y] #packing - 병합\n",
    "print(type(packing))\n",
    "print(\"Packing :\" , packing)\n",
    "[c1, c2] = packing #Unpacking\n",
    "print(\"Unpacking : \\nc1 : \" , c1)\n",
    "print(\"c2 : \" , c2 )"
   ]
  },
  {
   "cell_type": "code",
   "execution_count": 18,
   "id": "9799b62e",
   "metadata": {},
   "outputs": [
    {
     "name": "stdout",
     "output_type": "stream",
     "text": [
      "['사과', '오렌지', '포도', '복숭아', '키위']\n"
     ]
    }
   ],
   "source": [
    "fruits1 = [\"사과\",\"오렌지\",\"포도\"]\n",
    "fruits2 = [\"복숭아\",\"키위\"]\n",
    "allfruits = fruits1 + fruits2\n",
    "print(allfruits)"
   ]
  },
  {
   "cell_type": "code",
   "execution_count": 25,
   "id": "3030b2cf",
   "metadata": {},
   "outputs": [
    {
     "name": "stdout",
     "output_type": "stream",
     "text": [
      "['민준', 173, '서연', 153, '현우', 183, '민서', 144, '동현', 179]\n",
      "10 개 데이터\n"
     ]
    }
   ],
   "source": [
    "student=[\"민준\",173,\"서연\",153,\"현우\",183,\"민서\",144]\n",
    "alldata = student + [\"동현\", 179 ]\n",
    "print(alldata)\n",
    "print(len(alldata),\"개 데이터\") #print에서는 (정수 + 문자열) 출력 X"
   ]
  },
  {
   "cell_type": "code",
   "execution_count": 26,
   "id": "0b735256",
   "metadata": {},
   "outputs": [
    {
     "name": "stdout",
     "output_type": "stream",
     "text": [
      "[2, 3, 5, 7]\n"
     ]
    }
   ],
   "source": [
    "prime = [2,3,5]\n",
    "prime.append(7)\n",
    "print(prime)"
   ]
  },
  {
   "cell_type": "code",
   "execution_count": 27,
   "id": "71c2e430",
   "metadata": {},
   "outputs": [
    {
     "name": "stdout",
     "output_type": "stream",
     "text": [
      "0\n",
      "1\n",
      "2\n",
      "3\n",
      "4\n"
     ]
    }
   ],
   "source": [
    "a = list() #a= [] 와 동일\n",
    "for i in range(5):\n",
    "    a.append(i)\n",
    "    print(a[i])"
   ]
  },
  {
   "cell_type": "code",
   "execution_count": 28,
   "id": "89c3d7ef",
   "metadata": {},
   "outputs": [
    {
     "name": "stdout",
     "output_type": "stream",
     "text": [
      "['사과', '귤', '포도', '수박']\n"
     ]
    }
   ],
   "source": [
    "fruits = [\"사과\",\"귤\",\"포도\"]\n",
    "fruits.append(\"수박\")\n",
    "print(fruits)"
   ]
  },
  {
   "cell_type": "code",
   "execution_count": 29,
   "id": "9bca7d08",
   "metadata": {},
   "outputs": [
    {
     "name": "stdout",
     "output_type": "stream",
     "text": [
      "one :  1 [0, 1, 2]\n",
      "new :  2 [0, 1, 2, 3]\n",
      "one :  1 [0, 1, 2, 3]\n"
     ]
    }
   ],
   "source": [
    "def new(n,x):\n",
    "    n=2\n",
    "    x.append(x[-1]+1)\n",
    "    print(\"new : \", n,x)\n",
    "def one():\n",
    "    n = 1\n",
    "    x= [0,1,2]\n",
    "    print(\"one : \", n,x)\n",
    "    new(n,x)\n",
    "    print(\"one : \", n,x)\n",
    "one()"
   ]
  },
  {
   "cell_type": "code",
   "execution_count": 31,
   "id": "8715b5ad",
   "metadata": {},
   "outputs": [
    {
     "name": "stdout",
     "output_type": "stream",
     "text": [
      "0 새\n",
      "1 코끼리\n",
      "2 강아지\n"
     ]
    }
   ],
   "source": [
    "animals = [\"새\",\"코끼리\",\"강아지\"]\n",
    "for i ,animal in enumerate(animals): #enumerate : 인덱스 일련번호를 붙여준다. 반환값은 2개\n",
    "    print(i, animal)"
   ]
  },
  {
   "cell_type": "code",
   "execution_count": 34,
   "id": "e897ec61",
   "metadata": {},
   "outputs": [
    {
     "name": "stdout",
     "output_type": "stream",
     "text": [
      "[0, 3, 5]\n"
     ]
    }
   ],
   "source": [
    "bird_pos = []\n",
    "animals = [\"새\",\"코기리\",\"강아지\",\"새\",\"강아지\",\"새\"]\n",
    "for i, animal in enumerate(animals):\n",
    "    if(animal == \"새\"):\n",
    "        bird_pos.append(i)\n",
    "print(bird_pos)"
   ]
  },
  {
   "cell_type": "code",
   "execution_count": null,
   "id": "80128ccc",
   "metadata": {},
   "outputs": [],
   "source": []
  }
 ],
 "metadata": {
  "kernelspec": {
   "display_name": "Python 3 (ipykernel)",
   "language": "python",
   "name": "python3"
  },
  "language_info": {
   "codemirror_mode": {
    "name": "ipython",
    "version": 3
   },
   "file_extension": ".py",
   "mimetype": "text/x-python",
   "name": "python",
   "nbconvert_exporter": "python",
   "pygments_lexer": "ipython3",
   "version": "3.9.12"
  }
 },
 "nbformat": 4,
 "nbformat_minor": 5
}
