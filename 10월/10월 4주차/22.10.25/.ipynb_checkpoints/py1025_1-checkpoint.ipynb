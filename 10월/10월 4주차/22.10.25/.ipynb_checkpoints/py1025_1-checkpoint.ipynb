{
 "cells": [
  {
   "cell_type": "code",
   "execution_count": 1,
   "id": "fb273fab",
   "metadata": {},
   "outputs": [
    {
     "name": "stdout",
     "output_type": "stream",
     "text": [
      "<class 'int'>\n"
     ]
    }
   ],
   "source": [
    "a = 1\n",
    "print(type(a))"
   ]
  },
  {
   "cell_type": "code",
   "execution_count": 3,
   "id": "9e88f18b",
   "metadata": {},
   "outputs": [
    {
     "name": "stdout",
     "output_type": "stream",
     "text": [
      "<class 'int'>\n",
      "<class 'float'>\n",
      "<class 'complex'>\n"
     ]
    }
   ],
   "source": [
    "a = 4\n",
    "b = 2.1\n",
    "c = 1 + 2j #복소수\n",
    "print(type(a))\n",
    "print(type(b))\n",
    "print(type(c))"
   ]
  },
  {
   "cell_type": "code",
   "execution_count": 4,
   "id": "28f7ee97",
   "metadata": {},
   "outputs": [
    {
     "name": "stdout",
     "output_type": "stream",
     "text": [
      "2\n"
     ]
    }
   ],
   "source": [
    "a = 1\n",
    "if a > 0:\n",
    "    if a > 2:\n",
    "        if a > 3:\n",
    "            print(1)\n",
    "    else:\n",
    "        print(2)\n",
    "elif a ==0:\n",
    "    print(3)\n",
    "else:\n",
    "    print(4)"
   ]
  },
  {
   "cell_type": "code",
   "execution_count": 5,
   "id": "ca1d74b4",
   "metadata": {},
   "outputs": [
    {
     "name": "stdout",
     "output_type": "stream",
     "text": [
      "<class 'str'>\n"
     ]
    }
   ],
   "source": [
    "a = 'abcdef'\n",
    "print(type(a))"
   ]
  },
  {
   "cell_type": "code",
   "execution_count": 7,
   "id": "650ec4be",
   "metadata": {},
   "outputs": [
    {
     "name": "stdout",
     "output_type": "stream",
     "text": [
      "a\n",
      "bcd\n"
     ]
    }
   ],
   "source": [
    "print(a[0])\n",
    "print(a[1:4])"
   ]
  },
  {
   "cell_type": "code",
   "execution_count": 8,
   "id": "a6870177",
   "metadata": {},
   "outputs": [
    {
     "name": "stdout",
     "output_type": "stream",
     "text": [
      "<class 'list'>\n"
     ]
    }
   ],
   "source": [
    "a = [1,'a',[2,\"b\"],3]\n",
    "print(type(a))"
   ]
  },
  {
   "cell_type": "code",
   "execution_count": 22,
   "id": "edac4c99",
   "metadata": {},
   "outputs": [],
   "source": [
    "a.append(\"5\")"
   ]
  },
  {
   "cell_type": "code",
   "execution_count": 23,
   "id": "beab4a72",
   "metadata": {},
   "outputs": [
    {
     "name": "stdout",
     "output_type": "stream",
     "text": [
      "[1, 'a', [2, 'b'], 3, '5', '5', '5', '5', '5']\n"
     ]
    }
   ],
   "source": [
    "print(a)"
   ]
  },
  {
   "cell_type": "code",
   "execution_count": 26,
   "id": "f5fb77d9",
   "metadata": {},
   "outputs": [
    {
     "name": "stdout",
     "output_type": "stream",
     "text": [
      "안녕 안녕 안녕 "
     ]
    }
   ],
   "source": [
    "for i in range(3):\n",
    "    print(\"안녕\",end=\" \")"
   ]
  },
  {
   "cell_type": "code",
   "execution_count": 28,
   "id": "c3e816c3",
   "metadata": {},
   "outputs": [
    {
     "name": "stdout",
     "output_type": "stream",
     "text": [
      "0\n",
      "1\n",
      "2\n"
     ]
    }
   ],
   "source": [
    "for i in range(3):\n",
    "    print(i)"
   ]
  },
  {
   "cell_type": "code",
   "execution_count": 29,
   "id": "4b04256f",
   "metadata": {},
   "outputs": [
    {
     "name": "stdout",
     "output_type": "stream",
     "text": [
      "0\n",
      "2\n",
      "4\n",
      "6\n"
     ]
    }
   ],
   "source": [
    "for i in range(0,7,2): #0부터 7까지 2씩 증가하면서 출력\n",
    "    print(i)"
   ]
  },
  {
   "cell_type": "code",
   "execution_count": 39,
   "id": "9a8538bb",
   "metadata": {},
   "outputs": [
    {
     "name": "stdout",
     "output_type": "stream",
     "text": [
      "*** \n",
      "*** \n",
      "*** \n"
     ]
    }
   ],
   "source": [
    "for i in range(3):\n",
    "    for j in range(3):\n",
    "        print(\"*\",end=\"\")\n",
    "    print(\" \")"
   ]
  },
  {
   "cell_type": "code",
   "execution_count": 43,
   "id": "cf454382",
   "metadata": {},
   "outputs": [
    {
     "name": "stdout",
     "output_type": "stream",
     "text": [
      "1\t2\t3\t4\t5\t6\t7\t8\t9\t\n",
      "2\t4\t6\t8\t10\t12\t14\t16\t18\t\n",
      "3\t6\t9\t12\t15\t18\t21\t24\t27\t\n",
      "4\t8\t12\t16\t20\t24\t28\t32\t36\t\n",
      "5\t10\t15\t20\t25\t30\t35\t40\t45\t\n",
      "6\t12\t18\t24\t30\t36\t42\t48\t54\t\n",
      "7\t14\t21\t28\t35\t42\t49\t56\t63\t\n",
      "8\t16\t24\t32\t40\t48\t56\t64\t72\t\n",
      "9\t18\t27\t36\t45\t54\t63\t72\t81\t\n"
     ]
    }
   ],
   "source": [
    "for i in range(1,10):\n",
    "    for j in range(1,10):\n",
    "        print(i*j, end=\"\\t\")\n",
    "    print()"
   ]
  },
  {
   "cell_type": "code",
   "execution_count": 44,
   "id": "be0d581f",
   "metadata": {},
   "outputs": [
    {
     "name": "stdout",
     "output_type": "stream",
     "text": [
      "g\n"
     ]
    }
   ],
   "source": [
    "animal = \"frog\" #문자열로 저장하면 바로 배열생성\n",
    "print(animal[3])"
   ]
  },
  {
   "cell_type": "code",
   "execution_count": 46,
   "id": "45aead09",
   "metadata": {},
   "outputs": [
    {
     "name": "stdout",
     "output_type": "stream",
     "text": [
      "frog\n",
      "rog\n",
      "fr\n"
     ]
    }
   ],
   "source": [
    "animal = \"frog\"\n",
    "print(animal[:]) # 전체 문자열 출력\n",
    "print(animal[1:])# 인덱스 1에서부터 문자열의 끝까지 출력\n",
    "print(animal[:2]) # 처음부터 2 직전까지 출력"
   ]
  },
  {
   "cell_type": "code",
   "execution_count": 47,
   "id": "93b101cf",
   "metadata": {},
   "outputs": [
    {
     "name": "stdout",
     "output_type": "stream",
     "text": [
      "eehn\n",
      "tapl\n"
     ]
    }
   ],
   "source": [
    "animal = \"elephant\"\n",
    "print(animal[::2]) #처음 부터 2칸씩 출력\n",
    "print(animal[::-2]) # 뒤에서부터 2칸씩 출력"
   ]
  },
  {
   "cell_type": "code",
   "execution_count": 48,
   "id": "42bdb3ec",
   "metadata": {},
   "outputs": [
    {
     "name": "stdout",
     "output_type": "stream",
     "text": [
      "8\n"
     ]
    }
   ],
   "source": [
    "print(len(animal))"
   ]
  },
  {
   "cell_type": "code",
   "execution_count": 50,
   "id": "b96ce09d",
   "metadata": {},
   "outputs": [
    {
     "name": "stdout",
     "output_type": "stream",
     "text": [
      "e의 총 개수 : 2\n"
     ]
    }
   ],
   "source": [
    "print(\"e의 총 개수 :\", animal.count(\"e\"))"
   ]
  },
  {
   "cell_type": "code",
   "execution_count": 51,
   "id": "a4322df5",
   "metadata": {},
   "outputs": [
    {
     "name": "stdout",
     "output_type": "stream",
     "text": [
      "앞쪽 찾기 :  0\n",
      "ep 찾기 :  2\n",
      "뒤쪽 찾기 :  2\n",
      "위치 :  0\n",
      "el시작 :  True\n"
     ]
    }
   ],
   "source": [
    "print(\"앞쪽 찾기 : \",animal.find(\"e\"))\n",
    "print(\"ep 찾기 : \",animal.find(\"ep\"))\n",
    "print(\"뒤쪽 찾기 : \",animal.rfind(\"e\"))\n",
    "print(\"위치 : \",animal.index(\"e\"))\n",
    "print(\"el시작 : \",animal.startswith(\"e\"))"
   ]
  },
  {
   "cell_type": "code",
   "execution_count": 52,
   "id": "06210281",
   "metadata": {},
   "outputs": [
    {
     "name": "stdout",
     "output_type": "stream",
     "text": [
      "n이 있다. :  True\n",
      "an이 있다. :  True\n",
      "an이 없다. :  False\n"
     ]
    }
   ],
   "source": [
    "print(\"n이 있다. : \" ,\"n\" in animal)\n",
    "print(\"an이 있다. : \" ,\"an\" in animal)\n",
    "print(\"an이 없다. : \" ,\"an\" not in animal)"
   ]
  },
  {
   "cell_type": "code",
   "execution_count": 53,
   "id": "5d50533b",
   "metadata": {},
   "outputs": [
    {
     "name": "stdout",
     "output_type": "stream",
     "text": [
      "선택수정 :  Python Program\n"
     ]
    }
   ],
   "source": [
    "ai = \"python program\"\n",
    "print(\"선택수정 : \", ai.replace(\"p\",\"P\")) #단어 교체"
   ]
  },
  {
   "cell_type": "code",
   "execution_count": 57,
   "id": "9af55bbf",
   "metadata": {},
   "outputs": [
    {
     "name": "stdout",
     "output_type": "stream",
     "text": [
      "왼쪽 벗겨내기 :  elephant \n",
      "오른쪽 벗겨내기 :   elephant\n",
      "좌우 벗겨내기 :  elephant\n"
     ]
    }
   ],
   "source": [
    "animal = \" elephant \"\n",
    "print(\"왼쪽 벗겨내기 : \", animal.lstrip())\n",
    "print(\"오른쪽 벗겨내기 : \", animal.rstrip())\n",
    "print(\"좌우 벗겨내기 : \", animal.strip())"
   ]
  },
  {
   "cell_type": "code",
   "execution_count": 70,
   "id": "f1ec2da9",
   "metadata": {},
   "outputs": [
    {
     "data": {
      "text/plain": [
       "0.048821121921489796"
      ]
     },
     "execution_count": 70,
     "metadata": {},
     "output_type": "execute_result"
    }
   ],
   "source": [
    "import random\n",
    "random.random()"
   ]
  },
  {
   "cell_type": "code",
   "execution_count": 87,
   "id": "5e43ad63",
   "metadata": {},
   "outputs": [
    {
     "name": "stdout",
     "output_type": "stream",
     "text": [
      "1\n"
     ]
    }
   ],
   "source": [
    "import random\n",
    "print(random.randrange(1,6)) # 1~5까지의 무작위 수 출력"
   ]
  },
  {
   "cell_type": "code",
   "execution_count": 94,
   "id": "539f3bd5",
   "metadata": {},
   "outputs": [
    {
     "name": "stdout",
     "output_type": "stream",
     "text": [
      "우\n"
     ]
    }
   ],
   "source": [
    "chars = \"한글우수\"\n",
    "print(random.choice(chars))"
   ]
  },
  {
   "cell_type": "code",
   "execution_count": 95,
   "id": "c1f41e90",
   "metadata": {},
   "outputs": [
    {
     "name": "stdout",
     "output_type": "stream",
     "text": [
      "글\n"
     ]
    }
   ],
   "source": [
    "chars = [\"한\",\"글\",\"우\",\"수\"]\n",
    "print(random.choice(chars))"
   ]
  },
  {
   "cell_type": "code",
   "execution_count": 97,
   "id": "5a14d305",
   "metadata": {},
   "outputs": [
    {
     "name": "stdout",
     "output_type": "stream",
     "text": [
      "[1020, 870, 3160, 2650]\n",
      "870\n",
      "['사과', '오렌지', '포도', '복숭아']\n",
      "복숭아\n"
     ]
    }
   ],
   "source": [
    "price = [1020, 870, 3160, 2650]\n",
    "fruits = ['사과', '오렌지', '포도', '복숭아']\n",
    "print(price)\n",
    "print(price[1])\n",
    "print(fruits)\n",
    "print(fruits[-1])"
   ]
  },
  {
   "cell_type": "code",
   "execution_count": 98,
   "id": "11810050",
   "metadata": {},
   "outputs": [
    {
     "name": "stdout",
     "output_type": "stream",
     "text": [
      "[1020, 870]\n"
     ]
    }
   ],
   "source": [
    "print(price[0:2]) #슬라이싱 가능"
   ]
  },
  {
   "cell_type": "code",
   "execution_count": 107,
   "id": "a84dca96",
   "metadata": {},
   "outputs": [
    {
     "name": "stdout",
     "output_type": "stream",
     "text": [
      "Packing : [12.23, 23.34]\n",
      "UnPacking : \n",
      "c1 :  12.23\n",
      "c2 :  23.34\n"
     ]
    }
   ],
   "source": [
    "x = 12.23\n",
    "y = 23.34\n",
    "packing = [x,y]\n",
    "type(packing)\n",
    "print(\"Packing :\", packing)\n",
    "\n",
    "[c1,c2] = packing\n",
    "print(\"UnPacking : \\nc1 : \" , c1)\n",
    "print(\"c2 : \",c2)"
   ]
  },
  {
   "cell_type": "code",
   "execution_count": 108,
   "id": "8af99266",
   "metadata": {},
   "outputs": [
    {
     "name": "stdout",
     "output_type": "stream",
     "text": [
      "['사과', '오렌지', '포도', '복숭아', '키위']\n"
     ]
    }
   ],
   "source": [
    "fruits1 = ['사과', '오렌지', '포도']\n",
    "fruits2 = ['복숭아', '키위']\n",
    "allfruits = fruits1 + fruits2\n",
    "print(allfruits)"
   ]
  },
  {
   "cell_type": "code",
   "execution_count": 109,
   "id": "afbf86af",
   "metadata": {},
   "outputs": [
    {
     "name": "stdout",
     "output_type": "stream",
     "text": [
      "0\n",
      "1\n",
      "2\n",
      "3\n",
      "4\n"
     ]
    }
   ],
   "source": [
    "a = list()\n",
    "for i in range(5):\n",
    "    a.append(i)\n",
    "    print(a[i])"
   ]
  },
  {
   "cell_type": "code",
   "execution_count": 110,
   "id": "c7a080e5",
   "metadata": {},
   "outputs": [
    {
     "name": "stdout",
     "output_type": "stream",
     "text": [
      "0 새\n",
      "1 코끼리\n",
      "2 강아지\n"
     ]
    }
   ],
   "source": [
    "animals = [\"새\",\"코끼리\",\"강아지\"]\n",
    "for i, animal in enumerate(animals):\n",
    "    print(i,animal)"
   ]
  },
  {
   "cell_type": "code",
   "execution_count": 113,
   "id": "af2c794f",
   "metadata": {},
   "outputs": [
    {
     "name": "stdout",
     "output_type": "stream",
     "text": [
      "['새', '고양이', '코끼리', '강아지']\n"
     ]
    }
   ],
   "source": [
    "animals.insert(1,\"고양이\") #1번 인덱스의 고양이 삽입\n",
    "print(animals)"
   ]
  },
  {
   "cell_type": "code",
   "execution_count": 116,
   "id": "6213cd6b",
   "metadata": {},
   "outputs": [
    {
     "name": "stdout",
     "output_type": "stream",
     "text": [
      "['새', '코끼리', '강아지']\n"
     ]
    }
   ],
   "source": [
    "del animals[1]\n",
    "print(animals)"
   ]
  },
  {
   "cell_type": "code",
   "execution_count": 117,
   "id": "baef48cd",
   "metadata": {},
   "outputs": [
    {
     "name": "stdout",
     "output_type": "stream",
     "text": [
      "['새', '코끼리']\n"
     ]
    }
   ],
   "source": [
    "animals.pop()# 뒤에 요소 하나 제거\n",
    "print(animals)"
   ]
  },
  {
   "cell_type": "code",
   "execution_count": 118,
   "id": "7eb1ed3d",
   "metadata": {},
   "outputs": [
    {
     "name": "stdout",
     "output_type": "stream",
     "text": [
      "[33, 4, 2, 33, 17, 30, 18, 30, 18, 20, 1, 19, 29, 30, 10, 17, 30, 15, 15, 27, 16, 9, 23, 17, 10, 24, 8, 1, 5, 4, 28, 32, 20, 23, 27, 8, 30, 7, 4, 26, 1, 18, 8, 31, 2, 25, 25, 13, 14, 30, 11, 16, 2, 28, 1, 25, 11, 23, 25, 5, 23, 10, 28, 16, 24, 16, 1, 9, 32, 31, 3, 9, 27, 23, 13, 29, 17, 25, 25, 13, 22, 7, 2, 14, 4, 13, 32, 19, 3, 3, 27, 18, 14, 7, 24, 18, 19, 21, 23, 32]\n",
      "존재하지 않는 값(들): [6, 12]\n"
     ]
    }
   ],
   "source": [
    "import random\n",
    "bigdata=[]\n",
    "nodata=[]\n",
    "for i in range(100):\n",
    "    bigdata.append(random.randint(1, 33))\n",
    "print(bigdata)\n",
    "for i in range(1, 33):  # 1~33의 존재 여부 확인 후 삽입\n",
    "    if i not in bigdata:\n",
    "        nodata.append(i)                               \n",
    "print('존재하지 않는 값(들):', nodata)"
   ]
  },
  {
   "cell_type": "code",
   "execution_count": 122,
   "id": "df7333bb",
   "metadata": {},
   "outputs": [
    {
     "name": "stdout",
     "output_type": "stream",
     "text": [
      "('사과', '오렌지', 1020, 880)\n",
      "('하나', '둘')\n"
     ]
    }
   ],
   "source": [
    "empty = () #빈 튜플을 생성 또는 empty = tuple()\n",
    "animals = (\"토끼\",\"사자\",\"원숭이\")\n",
    "fruits = \"사과\",\"오렌지\",1020,880\n",
    "start = \"하나\",\"둘\",\n",
    "print(fruits)\n",
    "print(start)"
   ]
  },
  {
   "cell_type": "code",
   "execution_count": 123,
   "id": "7e0a5565",
   "metadata": {},
   "outputs": [
    {
     "name": "stdout",
     "output_type": "stream",
     "text": [
      "[('수박', '참외'), ('사과', '키위')]\n"
     ]
    }
   ],
   "source": [
    "fruits = [('포도', '망고'), ('사과', '키위')]\n",
    "fruits[0] = ('수박', '참외')\n",
    "print(fruits)"
   ]
  },
  {
   "cell_type": "code",
   "execution_count": 124,
   "id": "462470b7",
   "metadata": {},
   "outputs": [
    {
     "name": "stdout",
     "output_type": "stream",
     "text": [
      "{'지훈': 1234, '수민': 2345}\n"
     ]
    }
   ],
   "source": [
    "student = {}\n",
    "student[\"지훈\"]=1234\n",
    "student[\"수민\"] = 2345\n",
    "print(student) #key와 value로 쌍으로 이루어짐"
   ]
  },
  {
   "cell_type": "code",
   "execution_count": 127,
   "id": "b07d75d0",
   "metadata": {},
   "outputs": [
    {
     "name": "stdout",
     "output_type": "stream",
     "text": [
      "{'오렌지': 880, '포도': 3160}\n"
     ]
    }
   ],
   "source": [
    "fruitdb = {\"사과\":1020,\"오렌지\":880,'포도':3160}\n",
    "del fruitdb[\"사과\"]\n",
    "print(fruitdb)"
   ]
  },
  {
   "cell_type": "code",
   "execution_count": 128,
   "id": "bf15d85b",
   "metadata": {},
   "outputs": [
    {
     "name": "stdout",
     "output_type": "stream",
     "text": [
      "False\n"
     ]
    }
   ],
   "source": [
    "print(\"sejong\" in student)"
   ]
  },
  {
   "cell_type": "code",
   "execution_count": 132,
   "id": "1f764577",
   "metadata": {},
   "outputs": [
    {
     "name": "stdout",
     "output_type": "stream",
     "text": [
      "1234\n",
      "2345\n"
     ]
    }
   ],
   "source": [
    "print(student.get(\"지훈\"))\n",
    "print(student.get(\"수민\"))"
   ]
  },
  {
   "cell_type": "code",
   "execution_count": 133,
   "id": "09c2a9f2",
   "metadata": {},
   "outputs": [
    {
     "name": "stdout",
     "output_type": "stream",
     "text": [
      "dict_keys(['지훈', '수민'])\n",
      "dict_values([1234, 2345])\n",
      "dict_items([('지훈', 1234), ('수민', 2345)])\n"
     ]
    }
   ],
   "source": [
    "print(student.keys())\n",
    "print(student.values())\n",
    "print(student.items())#사전에 있는 모든 값을 반환"
   ]
  },
  {
   "cell_type": "code",
   "execution_count": null,
   "id": "825b2bba",
   "metadata": {},
   "outputs": [],
   "source": []
  }
 ],
 "metadata": {
  "kernelspec": {
   "display_name": "Python 3 (ipykernel)",
   "language": "python",
   "name": "python3"
  },
  "language_info": {
   "codemirror_mode": {
    "name": "ipython",
    "version": 3
   },
   "file_extension": ".py",
   "mimetype": "text/x-python",
   "name": "python",
   "nbconvert_exporter": "python",
   "pygments_lexer": "ipython3",
   "version": "3.9.12"
  }
 },
 "nbformat": 4,
 "nbformat_minor": 5
}
